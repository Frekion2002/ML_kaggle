{
  "cells": [
    {
      "cell_type": "code",
      "source": [
        "from google.colab import drive\n",
        "drive.mount('/content/drive')"
      ],
      "metadata": {
        "colab": {
          "base_uri": "https://localhost:8080/"
        },
        "id": "7x4HlDuorqqh",
        "outputId": "4cf2328d-8d34-437e-c038-139804af08e6"
      },
      "id": "7x4HlDuorqqh",
      "execution_count": 1,
      "outputs": [
        {
          "output_type": "stream",
          "name": "stdout",
          "text": [
            "Mounted at /content/drive\n"
          ]
        }
      ]
    },
    {
      "cell_type": "code",
      "execution_count": 2,
      "id": "69c4f58a-8eec-420a-be16-2c913d04109d",
      "metadata": {
        "colab": {
          "base_uri": "https://localhost:8080/"
        },
        "id": "69c4f58a-8eec-420a-be16-2c913d04109d",
        "outputId": "168b1ad1-4a78-44e0-e2d4-20cfbf1d1485"
      },
      "outputs": [
        {
          "output_type": "stream",
          "name": "stdout",
          "text": [
            "<class 'pandas.core.frame.DataFrame'>\n",
            "RangeIndex: 13132 entries, 0 to 13131\n",
            "Columns: 342 entries, id to target\n",
            "dtypes: float64(338), int64(2), object(2)\n",
            "memory usage: 34.3+ MB\n",
            "<class 'pandas.core.frame.DataFrame'>\n",
            "RangeIndex: 9 entries, 0 to 8\n",
            "Data columns (total 11 columns):\n",
            " #   Column            Non-Null Count  Dtype  \n",
            "---  ------            --------------  -----  \n",
            " 0   지점                9 non-null      int64  \n",
            " 1   시작일               9 non-null      object \n",
            " 2   종료일               1 non-null      object \n",
            " 3   지점명               9 non-null      object \n",
            " 4   위도                9 non-null      float64\n",
            " 5   경도                9 non-null      float64\n",
            " 6   노장해발고도(m)         9 non-null      float64\n",
            " 7   기압계(관측장비지상높이(m))  9 non-null      float64\n",
            " 8   기온계(관측장비지상높이(m))  9 non-null      float64\n",
            " 9   풍속계(관측장비지상높이(m))  9 non-null      float64\n",
            " 10  강우계(관측장비지상높이(m))  9 non-null      float64\n",
            "dtypes: float64(7), int64(1), object(3)\n",
            "memory usage: 924.0+ bytes\n"
          ]
        },
        {
          "output_type": "execute_result",
          "data": {
            "text/plain": [
              "(None, None)"
            ]
          },
          "metadata": {},
          "execution_count": 2
        }
      ],
      "source": [
        "import pandas as pd\n",
        "\n",
        "train_path = \"/content/drive/MyDrive/train_dataset.csv\"\n",
        "station_path = \"/content/drive/MyDrive/station_info.csv\"\n",
        "\n",
        "train_df = pd.read_csv(train_path)\n",
        "station_df = pd.read_csv(station_path)\n",
        "\n",
        "train_df.info(), station_df.info()"
      ]
    },
    {
      "cell_type": "code",
      "execution_count": 22,
      "id": "833be961-15b9-491d-ae33-7b62436b2397",
      "metadata": {
        "colab": {
          "base_uri": "https://localhost:8080/"
        },
        "id": "833be961-15b9-491d-ae33-7b62436b2397",
        "outputId": "ebf29f3c-ef7a-4ca5-867c-ef2a522034fa"
      },
      "outputs": [
        {
          "output_type": "stream",
          "name": "stdout",
          "text": [
            "여기 0\n",
            "[]\n",
            "---------\n",
            "[]\n",
            "<class 'pandas.core.frame.DataFrame'>\n",
            "RangeIndex: 13132 entries, 0 to 13131\n",
            "Columns: 367 entries, cloud_cover_0 to altitude\n",
            "dtypes: float64(365), int64(2)\n",
            "memory usage: 36.8 MB\n"
          ]
        }
      ],
      "source": [
        "import numpy as np\n",
        "import pandas as pd\n",
        "\n",
        "def dew_to_temp(dew, rh):\n",
        "    a = 17.62\n",
        "    b = 243.12\n",
        "    gamma_inv = (a * dew) / (b + dew) - np.log(rh / 100.0)\n",
        "    temp = (b * gamma_inv) / (a - gamma_inv)\n",
        "    return temp\n",
        "\n",
        "def preprocess_data(train_df, station_df):\n",
        "    df = train_df.copy()\n",
        "\n",
        "    # 1. -9999를 NaN으로 변환\n",
        "    df.replace(-9999, np.nan, inplace=True)\n",
        "\n",
        "    # 2. 날짜 분리 (month, day)\n",
        "    df[['month', 'day']] = df['date'].str.split('-', expand=True).astype(int)\n",
        "    df.drop(columns=['date'], inplace=True)\n",
        "\n",
        "    # 3. 결측치 처리\n",
        "    zero_key = ['sunshine_duration', 'snow_depth', 'precipitation', 'visibility', 'wind_speed', 'cloud_cover']\n",
        "\n",
        "    for col in df.columns:\n",
        "        if any(key in col for key in zero_key):\n",
        "            # 수정: inplace 사용하지 않고 명시적으로 할당\n",
        "            df[col] = df[col].fillna(0)\n",
        "        if \"min_cloud_height\" in col:\n",
        "            df[col] = df[col].fillna(90)\n",
        "\n",
        "    # NaN 값이 있는 피처 추출\n",
        "    bf_nan_columns_list = df.columns[df.isnull().any()].tolist()\n",
        "    # 각 결측치 컬럼별로 월별 평균으로 결측치 대체\n",
        "    for col in bf_nan_columns_list:\n",
        "        df[col] = df.groupby(['month'])[col].transform(lambda x: x.fillna(x.mean()))\n",
        "\n",
        "    # 결과 확인\n",
        "    af_nan_columns_list = df.columns[df.isnull().any()].tolist()\n",
        "    print(\"여기\", len(af_nan_columns_list))\n",
        "    print(af_nan_columns_list)\n",
        "    print(\"---------\")\n",
        "\n",
        "    # mag_temp 컬럼을 한 번에 생성하여 concat (fragmentation 방지)\n",
        "    mag_temp_cols = {}\n",
        "    for i in range(24):\n",
        "        mag_temp_cols[f'mag_temp_{i}'] = dew_to_temp(df[f'dew_point_{i}'], df[f'humidity_{i}'])\n",
        "    mag_temp_df = pd.DataFrame(mag_temp_cols, index=df.index)\n",
        "    df = pd.concat([df, mag_temp_df], axis=1)\n",
        "    df = df.copy()  # fragmentation 해소\n",
        "\n",
        "    # 4. 관측소 정보 병합\n",
        "    station_df_renamed = station_df.rename(columns={\n",
        "        '지점': 'station',\n",
        "        '위도': 'latitude',\n",
        "        '경도': 'longitude',\n",
        "        '노장해발고도(m)': 'altitude'\n",
        "    })[['station', 'latitude', 'longitude', 'altitude']]\n",
        "\n",
        "    station_df_renamed = station_df_renamed.drop_duplicates(subset='station')\n",
        "    df = df.merge(station_df_renamed, on='station', how='left')\n",
        "\n",
        "    # 6. 불필요 컬럼 제거\n",
        "    for col in ['station_name', 'station', 'id']:\n",
        "        if col in df.columns:\n",
        "            df.drop(columns=[col], inplace=True)\n",
        "\n",
        "    return df\n",
        "\n",
        "processed_df = preprocess_data(train_df, station_df)\n",
        "processed_df.info()"
      ]
    },
    {
      "cell_type": "code",
      "execution_count": 23,
      "id": "80b80f0b-e16d-4b57-b09b-2732a9dd3f6c",
      "metadata": {
        "colab": {
          "base_uri": "https://localhost:8080/"
        },
        "id": "80b80f0b-e16d-4b57-b09b-2732a9dd3f6c",
        "outputId": "ada0c87c-2881-4e88-aa84-afce56f3c43e"
      },
      "outputs": [
        {
          "output_type": "stream",
          "name": "stdout",
          "text": [
            "Requirement already satisfied: xgboost in /usr/local/lib/python3.11/dist-packages (2.1.4)\n",
            "Requirement already satisfied: numpy in /usr/local/lib/python3.11/dist-packages (from xgboost) (2.0.2)\n",
            "Requirement already satisfied: nvidia-nccl-cu12 in /usr/local/lib/python3.11/dist-packages (from xgboost) (2.21.5)\n",
            "Requirement already satisfied: scipy in /usr/local/lib/python3.11/dist-packages (from xgboost) (1.15.2)\n"
          ]
        }
      ],
      "source": [
        "!pip install xgboost"
      ]
    },
    {
      "cell_type": "code",
      "execution_count": 24,
      "id": "4389fe71-a97c-45d7-b733-ecacbc068c39",
      "metadata": {
        "id": "4389fe71-a97c-45d7-b733-ecacbc068c39"
      },
      "outputs": [],
      "source": [
        "from xgboost import XGBRegressor\n",
        "from sklearn.model_selection import train_test_split\n",
        "from sklearn.metrics import mean_squared_error\n",
        "import pandas as pd\n",
        "import numpy as np\n",
        "\n",
        "# 전처리된 데이터 불러온 후 float32로 변환\n",
        "df = processed_df\n",
        "\n",
        "X = df.drop(columns=['target'])\n",
        "y = df['target']\n",
        "\n",
        "X_train, X_val, y_train, y_val = train_test_split(X, y, test_size=0.2, random_state=42)"
      ]
    },
    {
      "cell_type": "code",
      "execution_count": 25,
      "id": "ab867b46-f600-402f-be3a-04e5b1e28073",
      "metadata": {
        "scrolled": true,
        "colab": {
          "base_uri": "https://localhost:8080/"
        },
        "id": "ab867b46-f600-402f-be3a-04e5b1e28073",
        "outputId": "f1c6949b-1219-4c18-abb2-9d9a60d8d199"
      },
      "outputs": [
        {
          "output_type": "stream",
          "name": "stdout",
          "text": [
            "🌱 Fold 1\n",
            "  📏 RMSE: 1.2849\n",
            "🌱 Fold 2\n",
            "  📏 RMSE: 1.2815\n",
            "🌱 Fold 3\n",
            "  📏 RMSE: 1.3052\n",
            "🌱 Fold 4\n",
            "  📏 RMSE: 1.2543\n",
            "🌱 Fold 5\n",
            "  📏 RMSE: 1.2841\n",
            "🌱 Fold 6\n",
            "  📏 RMSE: 1.2531\n",
            "🌱 Fold 7\n",
            "  📏 RMSE: 1.2560\n",
            "🌱 Fold 8\n",
            "  📏 RMSE: 1.3000\n",
            "🌱 Fold 9\n",
            "  📏 RMSE: 1.1823\n",
            "🌱 Fold 10\n",
            "  📏 RMSE: 1.2730\n",
            "\n",
            "✅ 평균 RMSE: 1.2674 ± 0.0333\n"
          ]
        },
        {
          "output_type": "execute_result",
          "data": {
            "text/plain": [
              "[np.float64(1.2849271067613954),\n",
              " np.float64(1.2815316845989155),\n",
              " np.float64(1.3051628788250091),\n",
              " np.float64(1.254318094612868),\n",
              " np.float64(1.2840823119329354),\n",
              " np.float64(1.2531122372877936),\n",
              " np.float64(1.256003413606879),\n",
              " np.float64(1.3000461631889217),\n",
              " np.float64(1.1822558814987325),\n",
              " np.float64(1.2729796555901374)]"
            ]
          },
          "metadata": {},
          "execution_count": 25
        }
      ],
      "source": [
        "# TRial 13s' hyperparams\n",
        "\n",
        "from sklearn.model_selection import KFold\n",
        "from sklearn.metrics import mean_squared_error\n",
        "import numpy as np\n",
        "from xgboost import XGBRegressor\n",
        "\n",
        "def run_kfold_xgb(X, y, n_splits=10):\n",
        "    kf = KFold(n_splits=n_splits, shuffle=True, random_state=42)\n",
        "    rmses = []\n",
        "\n",
        "    for fold, (train_idx, val_idx) in enumerate(kf.split(X)):\n",
        "        print(f\"🌱 Fold {fold + 1}\")\n",
        "        X_train, X_val = X.iloc[train_idx], X.iloc[val_idx]\n",
        "        y_train, y_val = y.iloc[train_idx], y.iloc[val_idx]\n",
        "\n",
        "        model = XGBRegressor(\n",
        "            n_estimators=665,\n",
        "            learning_rate=0.07468890154873875,\n",
        "            max_depth=7,\n",
        "            random_state=42,\n",
        "            min_child_weight=10,\n",
        "            tree_method='hist'\n",
        "        )\n",
        "        model.fit(X_train, y_train)\n",
        "        preds = model.predict(X_val)\n",
        "        mse = mean_squared_error(y_val, preds)\n",
        "        rmse = np.sqrt(mse)\n",
        "        print(f\"  📏 RMSE: {rmse:.4f}\")\n",
        "        rmses.append(rmse)\n",
        "\n",
        "    print(f\"\\n✅ 평균 RMSE: {np.mean(rmses):.4f} ± {np.std(rmses):.4f}\")\n",
        "    return rmses\n",
        "\n",
        "run_kfold_xgb(X, y)"
      ]
    },
    {
      "cell_type": "code",
      "source": [
        "pip install optuna"
      ],
      "metadata": {
        "colab": {
          "base_uri": "https://localhost:8080/"
        },
        "id": "N7XNknNW9uVM",
        "outputId": "1744a7ee-7ceb-432e-dc28-e3aa37a1f2cc"
      },
      "id": "N7XNknNW9uVM",
      "execution_count": 26,
      "outputs": [
        {
          "output_type": "stream",
          "name": "stdout",
          "text": [
            "Collecting optuna\n",
            "  Downloading optuna-4.3.0-py3-none-any.whl.metadata (17 kB)\n",
            "Collecting alembic>=1.5.0 (from optuna)\n",
            "  Downloading alembic-1.15.2-py3-none-any.whl.metadata (7.3 kB)\n",
            "Collecting colorlog (from optuna)\n",
            "  Downloading colorlog-6.9.0-py3-none-any.whl.metadata (10 kB)\n",
            "Requirement already satisfied: numpy in /usr/local/lib/python3.11/dist-packages (from optuna) (2.0.2)\n",
            "Requirement already satisfied: packaging>=20.0 in /usr/local/lib/python3.11/dist-packages (from optuna) (24.2)\n",
            "Requirement already satisfied: sqlalchemy>=1.4.2 in /usr/local/lib/python3.11/dist-packages (from optuna) (2.0.40)\n",
            "Requirement already satisfied: tqdm in /usr/local/lib/python3.11/dist-packages (from optuna) (4.67.1)\n",
            "Requirement already satisfied: PyYAML in /usr/local/lib/python3.11/dist-packages (from optuna) (6.0.2)\n",
            "Requirement already satisfied: Mako in /usr/lib/python3/dist-packages (from alembic>=1.5.0->optuna) (1.1.3)\n",
            "Requirement already satisfied: typing-extensions>=4.12 in /usr/local/lib/python3.11/dist-packages (from alembic>=1.5.0->optuna) (4.13.2)\n",
            "Requirement already satisfied: greenlet>=1 in /usr/local/lib/python3.11/dist-packages (from sqlalchemy>=1.4.2->optuna) (3.2.1)\n",
            "Downloading optuna-4.3.0-py3-none-any.whl (386 kB)\n",
            "\u001b[2K   \u001b[90m━━━━━━━━━━━━━━━━━━━━━━━━━━━━━━━━━━━━━━━━\u001b[0m \u001b[32m386.6/386.6 kB\u001b[0m \u001b[31m25.0 MB/s\u001b[0m eta \u001b[36m0:00:00\u001b[0m\n",
            "\u001b[?25hDownloading alembic-1.15.2-py3-none-any.whl (231 kB)\n",
            "\u001b[2K   \u001b[90m━━━━━━━━━━━━━━━━━━━━━━━━━━━━━━━━━━━━━━━━\u001b[0m \u001b[32m231.9/231.9 kB\u001b[0m \u001b[31m15.4 MB/s\u001b[0m eta \u001b[36m0:00:00\u001b[0m\n",
            "\u001b[?25hDownloading colorlog-6.9.0-py3-none-any.whl (11 kB)\n",
            "Installing collected packages: colorlog, alembic, optuna\n",
            "Successfully installed alembic-1.15.2 colorlog-6.9.0 optuna-4.3.0\n"
          ]
        }
      ]
    },
    {
      "cell_type": "code",
      "source": [
        "import optuna\n",
        "from sklearn.model_selection import KFold\n",
        "from sklearn.metrics import mean_squared_error\n",
        "import numpy as np\n",
        "from xgboost import XGBRegressor\n",
        "\n",
        "def objective(trial, X, y):\n",
        "    # 하이퍼파라미터 탐색 공간 정의\n",
        "    params = {\n",
        "        'n_estimators': trial.suggest_int('n_estimators', 500, 1500),\n",
        "        'learning_rate': trial.suggest_float('learning_rate', 0.01, 0.3, log=True),\n",
        "        'max_depth': trial.suggest_int('max_depth', 3, 10),\n",
        "        'min_child_weight': trial.suggest_int('min_child_weight', 1, 20),\n",
        "        'subsample': trial.suggest_float('subsample', 0.6, 1.0),\n",
        "        'colsample_bytree': trial.suggest_float('colsample_bytree', 0.6, 1.0),\n",
        "        'gamma': trial.suggest_float('gamma', 0, 1),\n",
        "        'reg_alpha': trial.suggest_float('reg_alpha', 0, 1),\n",
        "        'reg_lambda': trial.suggest_float('reg_lambda', 0, 1),\n",
        "        'tree_method': 'hist',\n",
        "        'random_state': 42\n",
        "    }\n",
        "\n",
        "    kf = KFold(n_splits=5, shuffle=True, random_state=42)\n",
        "    rmses = []\n",
        "\n",
        "    for fold, (train_idx, val_idx) in enumerate(kf.split(X)):\n",
        "        # 조기 중단(pruning)을 위한 callback\n",
        "        pruning_callback = optuna.integration.XGBoostPruningCallback(trial, f\"validation_{fold}-rmse\")\n",
        "\n",
        "        # 데이터 분할\n",
        "        X_train, X_val = X.iloc[train_idx], X.iloc[val_idx]\n",
        "        y_train, y_val = y.iloc[train_idx], y.iloc[val_idx]\n",
        "\n",
        "        # 모델 학습\n",
        "        model = XGBRegressor(**params)\n",
        "        model.fit(\n",
        "            X_train,\n",
        "            y_train,\n",
        "            eval_set=[(X_val, y_val)],\n",
        "            eval_metric=\"rmse\",\n",
        "            verbose=False,\n",
        "            callbacks=[pruning_callback]\n",
        "        )\n",
        "\n",
        "        # 검증 성능 계산\n",
        "        preds = model.predict(X_val)\n",
        "        rmse = np.sqrt(mean_squared_error(y_val, preds))\n",
        "        rmses.append(rmse)\n",
        "\n",
        "    return np.mean(rmses)  # K-Fold 평균 RMSE 반환\n",
        "\n",
        "# Optuna 최적화 실행\n",
        "study = optuna.create_study(\n",
        "    direction='minimize',\n",
        "    sampler=optuna.samplers.TPESampler(seed=42),\n",
        "    pruner=optuna.pruners.MedianPruner(n_warmup_steps=5)\n",
        ")\n",
        "study.optimize(lambda trial: objective(trial, X, y), n_trials=100)\n",
        "\n",
        "# 결과 출력\n",
        "print(f\"🎯 Best trial:\")\n",
        "print(f\"  RMSE: {study.best_value:.4f}\")\n",
        "print(\"🔧 Best hyperparameters:\")\n",
        "for key, value in study.best_params.items():\n",
        "    print(f\"  {key}: {value}\")\n",
        "\n",
        "# 최종 모델 학습 (전체 데이터 사용)\n",
        "best_model = XGBRegressor(**study.best_params, tree_method='hist', random_state=42)\n",
        "best_model.fit(X, y)\n",
        "\n",
        "# (선택사항) 튜닝된 하이퍼파라미터로 K-Fold 재검증\n",
        "print(\"\\n🚀 튜닝된 파라미터 검증:\")\n",
        "run_kfold_xgb(X, y, model=XGBRegressor(**study.best_params))\n"
      ],
      "metadata": {
        "colab": {
          "base_uri": "https://localhost:8080/",
          "height": 1000
        },
        "id": "raLUSr_79wpi",
        "outputId": "87fd70cd-85f4-4046-dffb-c5374be47b7f"
      },
      "id": "raLUSr_79wpi",
      "execution_count": 27,
      "outputs": [
        {
          "output_type": "stream",
          "name": "stderr",
          "text": [
            "[I 2025-05-10 02:13:06,896] A new study created in memory with name: no-name-f2b1860b-09cd-45e6-90e9-01ba5cf770fe\n",
            "[W 2025-05-10 02:13:06,901] Trial 0 failed with parameters: {'n_estimators': 874, 'learning_rate': 0.2536999076681772, 'max_depth': 8, 'min_child_weight': 12, 'subsample': 0.6624074561769746, 'colsample_bytree': 0.662397808134481, 'gamma': 0.05808361216819946, 'reg_alpha': 0.8661761457749352, 'reg_lambda': 0.6011150117432088} because of the following error: ModuleNotFoundError('\\nCould not find `optuna-integration` for `xgboost`.\\nPlease run `pip install optuna-integration[xgboost]`.').\n",
            "Traceback (most recent call last):\n",
            "  File \"/usr/local/lib/python3.11/dist-packages/optuna/integration/xgboost.py\", line 5, in <module>\n",
            "    from optuna_integration.xgboost import XGBoostPruningCallback\n",
            "ModuleNotFoundError: No module named 'optuna_integration'\n",
            "\n",
            "During handling of the above exception, another exception occurred:\n",
            "\n",
            "Traceback (most recent call last):\n",
            "  File \"/usr/local/lib/python3.11/dist-packages/optuna/integration/__init__.py\", line 132, in _get_module\n",
            "    return importlib.import_module(\".\" + module_name, self.__name__)\n",
            "           ^^^^^^^^^^^^^^^^^^^^^^^^^^^^^^^^^^^^^^^^^^^^^^^^^^^^^^^^^\n",
            "  File \"/usr/lib/python3.11/importlib/__init__.py\", line 126, in import_module\n",
            "    return _bootstrap._gcd_import(name[level:], package, level)\n",
            "           ^^^^^^^^^^^^^^^^^^^^^^^^^^^^^^^^^^^^^^^^^^^^^^^^^^^^\n",
            "  File \"<frozen importlib._bootstrap>\", line 1204, in _gcd_import\n",
            "  File \"<frozen importlib._bootstrap>\", line 1176, in _find_and_load\n",
            "  File \"<frozen importlib._bootstrap>\", line 1147, in _find_and_load_unlocked\n",
            "  File \"<frozen importlib._bootstrap>\", line 690, in _load_unlocked\n",
            "  File \"<frozen importlib._bootstrap_external>\", line 940, in exec_module\n",
            "  File \"<frozen importlib._bootstrap>\", line 241, in _call_with_frames_removed\n",
            "  File \"/usr/local/lib/python3.11/dist-packages/optuna/integration/xgboost.py\", line 7, in <module>\n",
            "    raise ModuleNotFoundError(_INTEGRATION_IMPORT_ERROR_TEMPLATE.format(\"xgboost\"))\n",
            "ModuleNotFoundError: \n",
            "Could not find `optuna-integration` for `xgboost`.\n",
            "Please run `pip install optuna-integration[xgboost]`.\n",
            "\n",
            "During handling of the above exception, another exception occurred:\n",
            "\n",
            "Traceback (most recent call last):\n",
            "  File \"/usr/local/lib/python3.11/dist-packages/optuna/study/_optimize.py\", line 197, in _run_trial\n",
            "    value_or_values = func(trial)\n",
            "                      ^^^^^^^^^^^\n",
            "  File \"<ipython-input-27-78a779ef5237>\", line 58, in <lambda>\n",
            "    study.optimize(lambda trial: objective(trial, X, y), n_trials=100)\n",
            "                                 ^^^^^^^^^^^^^^^^^^^^^^\n",
            "  File \"<ipython-input-27-78a779ef5237>\", line 28, in objective\n",
            "    pruning_callback = optuna.integration.XGBoostPruningCallback(trial, f\"validation_{fold}-rmse\")\n",
            "                       ^^^^^^^^^^^^^^^^^^^^^^^^^^^^^^^^^^^^^^^^^\n",
            "  File \"/usr/local/lib/python3.11/dist-packages/optuna/integration/__init__.py\", line 120, in __getattr__\n",
            "    module = self._get_module(self._class_to_module[name])\n",
            "             ^^^^^^^^^^^^^^^^^^^^^^^^^^^^^^^^^^^^^^^^^^^^^\n",
            "  File \"/usr/local/lib/python3.11/dist-packages/optuna/integration/__init__.py\", line 134, in _get_module\n",
            "    raise ModuleNotFoundError(_INTEGRATION_IMPORT_ERROR_TEMPLATE.format(module_name))\n",
            "ModuleNotFoundError: \n",
            "Could not find `optuna-integration` for `xgboost`.\n",
            "Please run `pip install optuna-integration[xgboost]`.\n",
            "[W 2025-05-10 02:13:06,904] Trial 0 failed with value None.\n"
          ]
        },
        {
          "output_type": "error",
          "ename": "ModuleNotFoundError",
          "evalue": "\nCould not find `optuna-integration` for `xgboost`.\nPlease run `pip install optuna-integration[xgboost]`.",
          "traceback": [
            "\u001b[0;31m---------------------------------------------------------------------------\u001b[0m",
            "\u001b[0;31mModuleNotFoundError\u001b[0m                       Traceback (most recent call last)",
            "\u001b[0;32m/usr/local/lib/python3.11/dist-packages/optuna/integration/xgboost.py\u001b[0m in \u001b[0;36m<module>\u001b[0;34m\u001b[0m\n\u001b[1;32m      4\u001b[0m \u001b[0;32mtry\u001b[0m\u001b[0;34m:\u001b[0m\u001b[0;34m\u001b[0m\u001b[0;34m\u001b[0m\u001b[0m\n\u001b[0;32m----> 5\u001b[0;31m     \u001b[0;32mfrom\u001b[0m \u001b[0moptuna_integration\u001b[0m\u001b[0;34m.\u001b[0m\u001b[0mxgboost\u001b[0m \u001b[0;32mimport\u001b[0m \u001b[0mXGBoostPruningCallback\u001b[0m\u001b[0;34m\u001b[0m\u001b[0;34m\u001b[0m\u001b[0m\n\u001b[0m\u001b[1;32m      6\u001b[0m \u001b[0;32mexcept\u001b[0m \u001b[0mModuleNotFoundError\u001b[0m\u001b[0;34m:\u001b[0m\u001b[0;34m\u001b[0m\u001b[0;34m\u001b[0m\u001b[0m\n",
            "\u001b[0;31mModuleNotFoundError\u001b[0m: No module named 'optuna_integration'",
            "\nDuring handling of the above exception, another exception occurred:\n",
            "\u001b[0;31mModuleNotFoundError\u001b[0m                       Traceback (most recent call last)",
            "\u001b[0;32m/usr/local/lib/python3.11/dist-packages/optuna/integration/__init__.py\u001b[0m in \u001b[0;36m_get_module\u001b[0;34m(self, module_name)\u001b[0m\n\u001b[1;32m    131\u001b[0m             \u001b[0;32mtry\u001b[0m\u001b[0;34m:\u001b[0m\u001b[0;34m\u001b[0m\u001b[0;34m\u001b[0m\u001b[0m\n\u001b[0;32m--> 132\u001b[0;31m                 \u001b[0;32mreturn\u001b[0m \u001b[0mimportlib\u001b[0m\u001b[0;34m.\u001b[0m\u001b[0mimport_module\u001b[0m\u001b[0;34m(\u001b[0m\u001b[0;34m\".\"\u001b[0m \u001b[0;34m+\u001b[0m \u001b[0mmodule_name\u001b[0m\u001b[0;34m,\u001b[0m \u001b[0mself\u001b[0m\u001b[0;34m.\u001b[0m\u001b[0m__name__\u001b[0m\u001b[0;34m)\u001b[0m\u001b[0;34m\u001b[0m\u001b[0;34m\u001b[0m\u001b[0m\n\u001b[0m\u001b[1;32m    133\u001b[0m             \u001b[0;32mexcept\u001b[0m \u001b[0mModuleNotFoundError\u001b[0m\u001b[0;34m:\u001b[0m\u001b[0;34m\u001b[0m\u001b[0;34m\u001b[0m\u001b[0m\n",
            "\u001b[0;32m/usr/lib/python3.11/importlib/__init__.py\u001b[0m in \u001b[0;36mimport_module\u001b[0;34m(name, package)\u001b[0m\n\u001b[1;32m    125\u001b[0m             \u001b[0mlevel\u001b[0m \u001b[0;34m+=\u001b[0m \u001b[0;36m1\u001b[0m\u001b[0;34m\u001b[0m\u001b[0;34m\u001b[0m\u001b[0m\n\u001b[0;32m--> 126\u001b[0;31m     \u001b[0;32mreturn\u001b[0m \u001b[0m_bootstrap\u001b[0m\u001b[0;34m.\u001b[0m\u001b[0m_gcd_import\u001b[0m\u001b[0;34m(\u001b[0m\u001b[0mname\u001b[0m\u001b[0;34m[\u001b[0m\u001b[0mlevel\u001b[0m\u001b[0;34m:\u001b[0m\u001b[0;34m]\u001b[0m\u001b[0;34m,\u001b[0m \u001b[0mpackage\u001b[0m\u001b[0;34m,\u001b[0m \u001b[0mlevel\u001b[0m\u001b[0;34m)\u001b[0m\u001b[0;34m\u001b[0m\u001b[0;34m\u001b[0m\u001b[0m\n\u001b[0m\u001b[1;32m    127\u001b[0m \u001b[0;34m\u001b[0m\u001b[0m\n",
            "\u001b[0;32m/usr/lib/python3.11/importlib/_bootstrap.py\u001b[0m in \u001b[0;36m_gcd_import\u001b[0;34m(name, package, level)\u001b[0m\n",
            "\u001b[0;32m/usr/lib/python3.11/importlib/_bootstrap.py\u001b[0m in \u001b[0;36m_find_and_load\u001b[0;34m(name, import_)\u001b[0m\n",
            "\u001b[0;32m/usr/lib/python3.11/importlib/_bootstrap.py\u001b[0m in \u001b[0;36m_find_and_load_unlocked\u001b[0;34m(name, import_)\u001b[0m\n",
            "\u001b[0;32m/usr/lib/python3.11/importlib/_bootstrap.py\u001b[0m in \u001b[0;36m_load_unlocked\u001b[0;34m(spec)\u001b[0m\n",
            "\u001b[0;32m/usr/lib/python3.11/importlib/_bootstrap_external.py\u001b[0m in \u001b[0;36mexec_module\u001b[0;34m(self, module)\u001b[0m\n",
            "\u001b[0;32m/usr/lib/python3.11/importlib/_bootstrap.py\u001b[0m in \u001b[0;36m_call_with_frames_removed\u001b[0;34m(f, *args, **kwds)\u001b[0m\n",
            "\u001b[0;32m/usr/local/lib/python3.11/dist-packages/optuna/integration/xgboost.py\u001b[0m in \u001b[0;36m<module>\u001b[0;34m\u001b[0m\n\u001b[1;32m      6\u001b[0m \u001b[0;32mexcept\u001b[0m \u001b[0mModuleNotFoundError\u001b[0m\u001b[0;34m:\u001b[0m\u001b[0;34m\u001b[0m\u001b[0;34m\u001b[0m\u001b[0m\n\u001b[0;32m----> 7\u001b[0;31m     \u001b[0;32mraise\u001b[0m \u001b[0mModuleNotFoundError\u001b[0m\u001b[0;34m(\u001b[0m\u001b[0m_INTEGRATION_IMPORT_ERROR_TEMPLATE\u001b[0m\u001b[0;34m.\u001b[0m\u001b[0mformat\u001b[0m\u001b[0;34m(\u001b[0m\u001b[0;34m\"xgboost\"\u001b[0m\u001b[0;34m)\u001b[0m\u001b[0;34m)\u001b[0m\u001b[0;34m\u001b[0m\u001b[0;34m\u001b[0m\u001b[0m\n\u001b[0m\u001b[1;32m      8\u001b[0m \u001b[0;34m\u001b[0m\u001b[0m\n",
            "\u001b[0;31mModuleNotFoundError\u001b[0m: \nCould not find `optuna-integration` for `xgboost`.\nPlease run `pip install optuna-integration[xgboost]`.",
            "\nDuring handling of the above exception, another exception occurred:\n",
            "\u001b[0;31mModuleNotFoundError\u001b[0m                       Traceback (most recent call last)",
            "\u001b[0;32m<ipython-input-27-78a779ef5237>\u001b[0m in \u001b[0;36m<cell line: 0>\u001b[0;34m()\u001b[0m\n\u001b[1;32m     56\u001b[0m     \u001b[0mpruner\u001b[0m\u001b[0;34m=\u001b[0m\u001b[0moptuna\u001b[0m\u001b[0;34m.\u001b[0m\u001b[0mpruners\u001b[0m\u001b[0;34m.\u001b[0m\u001b[0mMedianPruner\u001b[0m\u001b[0;34m(\u001b[0m\u001b[0mn_warmup_steps\u001b[0m\u001b[0;34m=\u001b[0m\u001b[0;36m5\u001b[0m\u001b[0;34m)\u001b[0m\u001b[0;34m\u001b[0m\u001b[0;34m\u001b[0m\u001b[0m\n\u001b[1;32m     57\u001b[0m )\n\u001b[0;32m---> 58\u001b[0;31m \u001b[0mstudy\u001b[0m\u001b[0;34m.\u001b[0m\u001b[0moptimize\u001b[0m\u001b[0;34m(\u001b[0m\u001b[0;32mlambda\u001b[0m \u001b[0mtrial\u001b[0m\u001b[0;34m:\u001b[0m \u001b[0mobjective\u001b[0m\u001b[0;34m(\u001b[0m\u001b[0mtrial\u001b[0m\u001b[0;34m,\u001b[0m \u001b[0mX\u001b[0m\u001b[0;34m,\u001b[0m \u001b[0my\u001b[0m\u001b[0;34m)\u001b[0m\u001b[0;34m,\u001b[0m \u001b[0mn_trials\u001b[0m\u001b[0;34m=\u001b[0m\u001b[0;36m100\u001b[0m\u001b[0;34m)\u001b[0m\u001b[0;34m\u001b[0m\u001b[0;34m\u001b[0m\u001b[0m\n\u001b[0m\u001b[1;32m     59\u001b[0m \u001b[0;34m\u001b[0m\u001b[0m\n\u001b[1;32m     60\u001b[0m \u001b[0;31m# 결과 출력\u001b[0m\u001b[0;34m\u001b[0m\u001b[0;34m\u001b[0m\u001b[0m\n",
            "\u001b[0;32m/usr/local/lib/python3.11/dist-packages/optuna/study/study.py\u001b[0m in \u001b[0;36moptimize\u001b[0;34m(self, func, n_trials, timeout, n_jobs, catch, callbacks, gc_after_trial, show_progress_bar)\u001b[0m\n\u001b[1;32m    473\u001b[0m                 \u001b[0mIf\u001b[0m \u001b[0mnested\u001b[0m \u001b[0minvocation\u001b[0m \u001b[0mof\u001b[0m \u001b[0mthis\u001b[0m \u001b[0mmethod\u001b[0m \u001b[0moccurs\u001b[0m\u001b[0;34m.\u001b[0m\u001b[0;34m\u001b[0m\u001b[0;34m\u001b[0m\u001b[0m\n\u001b[1;32m    474\u001b[0m         \"\"\"\n\u001b[0;32m--> 475\u001b[0;31m         _optimize(\n\u001b[0m\u001b[1;32m    476\u001b[0m             \u001b[0mstudy\u001b[0m\u001b[0;34m=\u001b[0m\u001b[0mself\u001b[0m\u001b[0;34m,\u001b[0m\u001b[0;34m\u001b[0m\u001b[0;34m\u001b[0m\u001b[0m\n\u001b[1;32m    477\u001b[0m             \u001b[0mfunc\u001b[0m\u001b[0;34m=\u001b[0m\u001b[0mfunc\u001b[0m\u001b[0;34m,\u001b[0m\u001b[0;34m\u001b[0m\u001b[0;34m\u001b[0m\u001b[0m\n",
            "\u001b[0;32m/usr/local/lib/python3.11/dist-packages/optuna/study/_optimize.py\u001b[0m in \u001b[0;36m_optimize\u001b[0;34m(study, func, n_trials, timeout, n_jobs, catch, callbacks, gc_after_trial, show_progress_bar)\u001b[0m\n\u001b[1;32m     61\u001b[0m     \u001b[0;32mtry\u001b[0m\u001b[0;34m:\u001b[0m\u001b[0;34m\u001b[0m\u001b[0;34m\u001b[0m\u001b[0m\n\u001b[1;32m     62\u001b[0m         \u001b[0;32mif\u001b[0m \u001b[0mn_jobs\u001b[0m \u001b[0;34m==\u001b[0m \u001b[0;36m1\u001b[0m\u001b[0;34m:\u001b[0m\u001b[0;34m\u001b[0m\u001b[0;34m\u001b[0m\u001b[0m\n\u001b[0;32m---> 63\u001b[0;31m             _optimize_sequential(\n\u001b[0m\u001b[1;32m     64\u001b[0m                 \u001b[0mstudy\u001b[0m\u001b[0;34m,\u001b[0m\u001b[0;34m\u001b[0m\u001b[0;34m\u001b[0m\u001b[0m\n\u001b[1;32m     65\u001b[0m                 \u001b[0mfunc\u001b[0m\u001b[0;34m,\u001b[0m\u001b[0;34m\u001b[0m\u001b[0;34m\u001b[0m\u001b[0m\n",
            "\u001b[0;32m/usr/local/lib/python3.11/dist-packages/optuna/study/_optimize.py\u001b[0m in \u001b[0;36m_optimize_sequential\u001b[0;34m(study, func, n_trials, timeout, catch, callbacks, gc_after_trial, reseed_sampler_rng, time_start, progress_bar)\u001b[0m\n\u001b[1;32m    158\u001b[0m \u001b[0;34m\u001b[0m\u001b[0m\n\u001b[1;32m    159\u001b[0m         \u001b[0;32mtry\u001b[0m\u001b[0;34m:\u001b[0m\u001b[0;34m\u001b[0m\u001b[0;34m\u001b[0m\u001b[0m\n\u001b[0;32m--> 160\u001b[0;31m             \u001b[0mfrozen_trial\u001b[0m \u001b[0;34m=\u001b[0m \u001b[0m_run_trial\u001b[0m\u001b[0;34m(\u001b[0m\u001b[0mstudy\u001b[0m\u001b[0;34m,\u001b[0m \u001b[0mfunc\u001b[0m\u001b[0;34m,\u001b[0m \u001b[0mcatch\u001b[0m\u001b[0;34m)\u001b[0m\u001b[0;34m\u001b[0m\u001b[0;34m\u001b[0m\u001b[0m\n\u001b[0m\u001b[1;32m    161\u001b[0m         \u001b[0;32mfinally\u001b[0m\u001b[0;34m:\u001b[0m\u001b[0;34m\u001b[0m\u001b[0;34m\u001b[0m\u001b[0m\n\u001b[1;32m    162\u001b[0m             \u001b[0;31m# The following line mitigates memory problems that can be occurred in some\u001b[0m\u001b[0;34m\u001b[0m\u001b[0;34m\u001b[0m\u001b[0m\n",
            "\u001b[0;32m/usr/local/lib/python3.11/dist-packages/optuna/study/_optimize.py\u001b[0m in \u001b[0;36m_run_trial\u001b[0;34m(study, func, catch)\u001b[0m\n\u001b[1;32m    246\u001b[0m         \u001b[0;32mand\u001b[0m \u001b[0;32mnot\u001b[0m \u001b[0misinstance\u001b[0m\u001b[0;34m(\u001b[0m\u001b[0mfunc_err\u001b[0m\u001b[0;34m,\u001b[0m \u001b[0mcatch\u001b[0m\u001b[0;34m)\u001b[0m\u001b[0;34m\u001b[0m\u001b[0;34m\u001b[0m\u001b[0m\n\u001b[1;32m    247\u001b[0m     ):\n\u001b[0;32m--> 248\u001b[0;31m         \u001b[0;32mraise\u001b[0m \u001b[0mfunc_err\u001b[0m\u001b[0;34m\u001b[0m\u001b[0;34m\u001b[0m\u001b[0m\n\u001b[0m\u001b[1;32m    249\u001b[0m     \u001b[0;32mreturn\u001b[0m \u001b[0mfrozen_trial\u001b[0m\u001b[0;34m\u001b[0m\u001b[0;34m\u001b[0m\u001b[0m\n\u001b[1;32m    250\u001b[0m \u001b[0;34m\u001b[0m\u001b[0m\n",
            "\u001b[0;32m/usr/local/lib/python3.11/dist-packages/optuna/study/_optimize.py\u001b[0m in \u001b[0;36m_run_trial\u001b[0;34m(study, func, catch)\u001b[0m\n\u001b[1;32m    195\u001b[0m     \u001b[0;32mwith\u001b[0m \u001b[0mget_heartbeat_thread\u001b[0m\u001b[0;34m(\u001b[0m\u001b[0mtrial\u001b[0m\u001b[0;34m.\u001b[0m\u001b[0m_trial_id\u001b[0m\u001b[0;34m,\u001b[0m \u001b[0mstudy\u001b[0m\u001b[0;34m.\u001b[0m\u001b[0m_storage\u001b[0m\u001b[0;34m)\u001b[0m\u001b[0;34m:\u001b[0m\u001b[0;34m\u001b[0m\u001b[0;34m\u001b[0m\u001b[0m\n\u001b[1;32m    196\u001b[0m         \u001b[0;32mtry\u001b[0m\u001b[0;34m:\u001b[0m\u001b[0;34m\u001b[0m\u001b[0;34m\u001b[0m\u001b[0m\n\u001b[0;32m--> 197\u001b[0;31m             \u001b[0mvalue_or_values\u001b[0m \u001b[0;34m=\u001b[0m \u001b[0mfunc\u001b[0m\u001b[0;34m(\u001b[0m\u001b[0mtrial\u001b[0m\u001b[0;34m)\u001b[0m\u001b[0;34m\u001b[0m\u001b[0;34m\u001b[0m\u001b[0m\n\u001b[0m\u001b[1;32m    198\u001b[0m         \u001b[0;32mexcept\u001b[0m \u001b[0mexceptions\u001b[0m\u001b[0;34m.\u001b[0m\u001b[0mTrialPruned\u001b[0m \u001b[0;32mas\u001b[0m \u001b[0me\u001b[0m\u001b[0;34m:\u001b[0m\u001b[0;34m\u001b[0m\u001b[0;34m\u001b[0m\u001b[0m\n\u001b[1;32m    199\u001b[0m             \u001b[0;31m# TODO(mamu): Handle multi-objective cases.\u001b[0m\u001b[0;34m\u001b[0m\u001b[0;34m\u001b[0m\u001b[0m\n",
            "\u001b[0;32m<ipython-input-27-78a779ef5237>\u001b[0m in \u001b[0;36m<lambda>\u001b[0;34m(trial)\u001b[0m\n\u001b[1;32m     56\u001b[0m     \u001b[0mpruner\u001b[0m\u001b[0;34m=\u001b[0m\u001b[0moptuna\u001b[0m\u001b[0;34m.\u001b[0m\u001b[0mpruners\u001b[0m\u001b[0;34m.\u001b[0m\u001b[0mMedianPruner\u001b[0m\u001b[0;34m(\u001b[0m\u001b[0mn_warmup_steps\u001b[0m\u001b[0;34m=\u001b[0m\u001b[0;36m5\u001b[0m\u001b[0;34m)\u001b[0m\u001b[0;34m\u001b[0m\u001b[0;34m\u001b[0m\u001b[0m\n\u001b[1;32m     57\u001b[0m )\n\u001b[0;32m---> 58\u001b[0;31m \u001b[0mstudy\u001b[0m\u001b[0;34m.\u001b[0m\u001b[0moptimize\u001b[0m\u001b[0;34m(\u001b[0m\u001b[0;32mlambda\u001b[0m \u001b[0mtrial\u001b[0m\u001b[0;34m:\u001b[0m \u001b[0mobjective\u001b[0m\u001b[0;34m(\u001b[0m\u001b[0mtrial\u001b[0m\u001b[0;34m,\u001b[0m \u001b[0mX\u001b[0m\u001b[0;34m,\u001b[0m \u001b[0my\u001b[0m\u001b[0;34m)\u001b[0m\u001b[0;34m,\u001b[0m \u001b[0mn_trials\u001b[0m\u001b[0;34m=\u001b[0m\u001b[0;36m100\u001b[0m\u001b[0;34m)\u001b[0m\u001b[0;34m\u001b[0m\u001b[0;34m\u001b[0m\u001b[0m\n\u001b[0m\u001b[1;32m     59\u001b[0m \u001b[0;34m\u001b[0m\u001b[0m\n\u001b[1;32m     60\u001b[0m \u001b[0;31m# 결과 출력\u001b[0m\u001b[0;34m\u001b[0m\u001b[0;34m\u001b[0m\u001b[0m\n",
            "\u001b[0;32m<ipython-input-27-78a779ef5237>\u001b[0m in \u001b[0;36mobjective\u001b[0;34m(trial, X, y)\u001b[0m\n\u001b[1;32m     26\u001b[0m     \u001b[0;32mfor\u001b[0m \u001b[0mfold\u001b[0m\u001b[0;34m,\u001b[0m \u001b[0;34m(\u001b[0m\u001b[0mtrain_idx\u001b[0m\u001b[0;34m,\u001b[0m \u001b[0mval_idx\u001b[0m\u001b[0;34m)\u001b[0m \u001b[0;32min\u001b[0m \u001b[0menumerate\u001b[0m\u001b[0;34m(\u001b[0m\u001b[0mkf\u001b[0m\u001b[0;34m.\u001b[0m\u001b[0msplit\u001b[0m\u001b[0;34m(\u001b[0m\u001b[0mX\u001b[0m\u001b[0;34m)\u001b[0m\u001b[0;34m)\u001b[0m\u001b[0;34m:\u001b[0m\u001b[0;34m\u001b[0m\u001b[0;34m\u001b[0m\u001b[0m\n\u001b[1;32m     27\u001b[0m         \u001b[0;31m# 조기 중단(pruning)을 위한 callback\u001b[0m\u001b[0;34m\u001b[0m\u001b[0;34m\u001b[0m\u001b[0m\n\u001b[0;32m---> 28\u001b[0;31m         \u001b[0mpruning_callback\u001b[0m \u001b[0;34m=\u001b[0m \u001b[0moptuna\u001b[0m\u001b[0;34m.\u001b[0m\u001b[0mintegration\u001b[0m\u001b[0;34m.\u001b[0m\u001b[0mXGBoostPruningCallback\u001b[0m\u001b[0;34m(\u001b[0m\u001b[0mtrial\u001b[0m\u001b[0;34m,\u001b[0m \u001b[0;34mf\"validation_{fold}-rmse\"\u001b[0m\u001b[0;34m)\u001b[0m\u001b[0;34m\u001b[0m\u001b[0;34m\u001b[0m\u001b[0m\n\u001b[0m\u001b[1;32m     29\u001b[0m \u001b[0;34m\u001b[0m\u001b[0m\n\u001b[1;32m     30\u001b[0m         \u001b[0;31m# 데이터 분할\u001b[0m\u001b[0;34m\u001b[0m\u001b[0;34m\u001b[0m\u001b[0m\n",
            "\u001b[0;32m/usr/local/lib/python3.11/dist-packages/optuna/integration/__init__.py\u001b[0m in \u001b[0;36m__getattr__\u001b[0;34m(self, name)\u001b[0m\n\u001b[1;32m    118\u001b[0m                 \u001b[0mvalue\u001b[0m \u001b[0;34m=\u001b[0m \u001b[0mself\u001b[0m\u001b[0;34m.\u001b[0m\u001b[0m_get_module\u001b[0m\u001b[0;34m(\u001b[0m\u001b[0mname\u001b[0m\u001b[0;34m)\u001b[0m\u001b[0;34m\u001b[0m\u001b[0;34m\u001b[0m\u001b[0m\n\u001b[1;32m    119\u001b[0m             \u001b[0;32melif\u001b[0m \u001b[0mname\u001b[0m \u001b[0;32min\u001b[0m \u001b[0mself\u001b[0m\u001b[0;34m.\u001b[0m\u001b[0m_class_to_module\u001b[0m\u001b[0;34m.\u001b[0m\u001b[0mkeys\u001b[0m\u001b[0;34m(\u001b[0m\u001b[0;34m)\u001b[0m\u001b[0;34m:\u001b[0m\u001b[0;34m\u001b[0m\u001b[0;34m\u001b[0m\u001b[0m\n\u001b[0;32m--> 120\u001b[0;31m                 \u001b[0mmodule\u001b[0m \u001b[0;34m=\u001b[0m \u001b[0mself\u001b[0m\u001b[0;34m.\u001b[0m\u001b[0m_get_module\u001b[0m\u001b[0;34m(\u001b[0m\u001b[0mself\u001b[0m\u001b[0;34m.\u001b[0m\u001b[0m_class_to_module\u001b[0m\u001b[0;34m[\u001b[0m\u001b[0mname\u001b[0m\u001b[0;34m]\u001b[0m\u001b[0;34m)\u001b[0m\u001b[0;34m\u001b[0m\u001b[0;34m\u001b[0m\u001b[0m\n\u001b[0m\u001b[1;32m    121\u001b[0m                 \u001b[0mvalue\u001b[0m \u001b[0;34m=\u001b[0m \u001b[0mgetattr\u001b[0m\u001b[0;34m(\u001b[0m\u001b[0mmodule\u001b[0m\u001b[0;34m,\u001b[0m \u001b[0mname\u001b[0m\u001b[0;34m)\u001b[0m\u001b[0;34m\u001b[0m\u001b[0;34m\u001b[0m\u001b[0m\n\u001b[1;32m    122\u001b[0m             \u001b[0;32melse\u001b[0m\u001b[0;34m:\u001b[0m\u001b[0;34m\u001b[0m\u001b[0;34m\u001b[0m\u001b[0m\n",
            "\u001b[0;32m/usr/local/lib/python3.11/dist-packages/optuna/integration/__init__.py\u001b[0m in \u001b[0;36m_get_module\u001b[0;34m(self, module_name)\u001b[0m\n\u001b[1;32m    132\u001b[0m                 \u001b[0;32mreturn\u001b[0m \u001b[0mimportlib\u001b[0m\u001b[0;34m.\u001b[0m\u001b[0mimport_module\u001b[0m\u001b[0;34m(\u001b[0m\u001b[0;34m\".\"\u001b[0m \u001b[0;34m+\u001b[0m \u001b[0mmodule_name\u001b[0m\u001b[0;34m,\u001b[0m \u001b[0mself\u001b[0m\u001b[0;34m.\u001b[0m\u001b[0m__name__\u001b[0m\u001b[0;34m)\u001b[0m\u001b[0;34m\u001b[0m\u001b[0;34m\u001b[0m\u001b[0m\n\u001b[1;32m    133\u001b[0m             \u001b[0;32mexcept\u001b[0m \u001b[0mModuleNotFoundError\u001b[0m\u001b[0;34m:\u001b[0m\u001b[0;34m\u001b[0m\u001b[0;34m\u001b[0m\u001b[0m\n\u001b[0;32m--> 134\u001b[0;31m                 \u001b[0;32mraise\u001b[0m \u001b[0mModuleNotFoundError\u001b[0m\u001b[0;34m(\u001b[0m\u001b[0m_INTEGRATION_IMPORT_ERROR_TEMPLATE\u001b[0m\u001b[0;34m.\u001b[0m\u001b[0mformat\u001b[0m\u001b[0;34m(\u001b[0m\u001b[0mmodule_name\u001b[0m\u001b[0;34m)\u001b[0m\u001b[0;34m)\u001b[0m\u001b[0;34m\u001b[0m\u001b[0;34m\u001b[0m\u001b[0m\n\u001b[0m\u001b[1;32m    135\u001b[0m \u001b[0;34m\u001b[0m\u001b[0m\n\u001b[1;32m    136\u001b[0m     \u001b[0msys\u001b[0m\u001b[0;34m.\u001b[0m\u001b[0mmodules\u001b[0m\u001b[0;34m[\u001b[0m\u001b[0m__name__\u001b[0m\u001b[0;34m]\u001b[0m \u001b[0;34m=\u001b[0m \u001b[0m_IntegrationModule\u001b[0m\u001b[0;34m(\u001b[0m\u001b[0m__name__\u001b[0m\u001b[0;34m)\u001b[0m\u001b[0;34m\u001b[0m\u001b[0;34m\u001b[0m\u001b[0m\n",
            "\u001b[0;31mModuleNotFoundError\u001b[0m: \nCould not find `optuna-integration` for `xgboost`.\nPlease run `pip install optuna-integration[xgboost]`.",
            "",
            "\u001b[0;31m---------------------------------------------------------------------------\u001b[0;32m\nNOTE: If your import is failing due to a missing package, you can\nmanually install dependencies using either !pip or !apt.\n\nTo view examples of installing some common dependencies, click the\n\"Open Examples\" button below.\n\u001b[0;31m---------------------------------------------------------------------------\u001b[0m\n"
          ],
          "errorDetails": {
            "actions": [
              {
                "action": "open_url",
                "actionText": "Open Examples",
                "url": "/notebooks/snippets/importing_libraries.ipynb"
              }
            ]
          }
        }
      ]
    },
    {
      "cell_type": "code",
      "execution_count": null,
      "id": "bbf4c015-6bd5-44f3-85bf-5a035192e262",
      "metadata": {
        "id": "bbf4c015-6bd5-44f3-85bf-5a035192e262"
      },
      "outputs": [],
      "source": [
        "final_model = XGBRegressor(\n",
        "    n_estimators=665,\n",
        "    learning_rate=0.07468890154873875,\n",
        "    max_depth=8,\n",
        "    random_state=42,\n",
        "    min_child_weight=10,\n",
        "    tree_method='hist'\n",
        ")\n",
        "\n",
        "# 💥 전부 다 학습에 씀\n",
        "final_model.fit(X, y)"
      ]
    },
    {
      "cell_type": "code",
      "execution_count": null,
      "id": "b7bdec37-db9d-4d90-84e1-9df103e3fff6",
      "metadata": {
        "id": "b7bdec37-db9d-4d90-84e1-9df103e3fff6"
      },
      "outputs": [],
      "source": [
        "y_pred = final_model.predict(X)\n",
        "\n",
        "mse = mean_squared_error(y, y_pred)\n",
        "rmse = np.sqrt(mse)\n",
        "print(f'✅ 검증 RMSE: {rmse:.4f} °C')"
      ]
    },
    {
      "cell_type": "code",
      "execution_count": null,
      "id": "fbf9c6b0-f3a1-443b-8ab9-b78b6dffbd98",
      "metadata": {
        "id": "fbf9c6b0-f3a1-443b-8ab9-b78b6dffbd98"
      },
      "outputs": [],
      "source": [
        "test_path = '/content/drive/MyDrive/test_dataset.csv'\n",
        "test_df = pd.read_csv(test_path)"
      ]
    },
    {
      "cell_type": "code",
      "execution_count": null,
      "id": "9b34bc07-0a38-4733-81be-b15e92220cb2",
      "metadata": {
        "id": "9b34bc07-0a38-4733-81be-b15e92220cb2"
      },
      "outputs": [],
      "source": [
        "test = preprocess_data(test_df, station_df)\n",
        "test.info()"
      ]
    },
    {
      "cell_type": "code",
      "execution_count": null,
      "id": "25115ebc-03fe-4c74-8bbd-36a25839c8fe",
      "metadata": {
        "id": "25115ebc-03fe-4c74-8bbd-36a25839c8fe"
      },
      "outputs": [],
      "source": [
        "prediction = final_model.predict(test)\n",
        "submission_df = pd.DataFrame({'target':prediction})\n",
        "submission_df.to_csv('asdfsadnnf.csv',index=True)"
      ]
    },
    {
      "cell_type": "code",
      "execution_count": null,
      "id": "bd889452-ab1c-436c-981c-78daca298afa",
      "metadata": {
        "scrolled": true,
        "id": "bd889452-ab1c-436c-981c-78daca298afa"
      },
      "outputs": [],
      "source": [
        "import shap\n",
        "import matplotlib.pyplot as plt\n",
        "\n",
        "# 🎯 모델에 대한 SHAP Explainer 생성\n",
        "explainer = shap.Explainer(final_model)\n",
        "\n",
        "# 🔍 validation 데이터에 대한 SHAP 값 계산\n",
        "shap_values = explainer(X_val)\n",
        "\n",
        "# 🐝 변수 중요도 시각화 (Beeswarm plot)\n",
        "shap.plots.beeswarm(shap_values)"
      ]
    },
    {
      "cell_type": "code",
      "execution_count": null,
      "id": "9ba0db0c-a1c4-4ebe-b3a8-780cc6157e1b",
      "metadata": {
        "id": "9ba0db0c-a1c4-4ebe-b3a8-780cc6157e1b"
      },
      "outputs": [],
      "source": [
        "shap.summary_plot(shap_values.values, X_val, plot_type=\"bar\")"
      ]
    },
    {
      "cell_type": "code",
      "execution_count": null,
      "id": "b09eaaf2-7ecf-4033-abf7-5fe34b4cfd64",
      "metadata": {
        "scrolled": true,
        "id": "b09eaaf2-7ecf-4033-abf7-5fe34b4cfd64"
      },
      "outputs": [],
      "source": [
        "shap.plots.bar(shap_values, max_display=shap_values.shape[1])"
      ]
    },
    {
      "cell_type": "code",
      "execution_count": null,
      "id": "1629b6c6-dc4f-44ee-90e5-f64bce389219",
      "metadata": {
        "id": "1629b6c6-dc4f-44ee-90e5-f64bce389219"
      },
      "outputs": [],
      "source": [
        "import numpy as np\n",
        "import pandas as pd\n",
        "\n",
        "# SHAP 값 배열 추출 (Explanation 객체 → numpy array)\n",
        "shap_array = shap_values.values  # 👈 이거 추가!\n",
        "\n",
        "# 1. 변수별 평균 SHAP값 계산 (절댓값 기준)\n",
        "mean_abs_shap = np.abs(shap_array).mean(axis=0)\n",
        "\n",
        "# 2. 중요도 데이터프레임 만들기\n",
        "importance_df = pd.DataFrame({\n",
        "    'feature': X.columns,\n",
        "    'mean_abs_shap': mean_abs_shap\n",
        "}).sort_values(by='mean_abs_shap', ascending=False)\n",
        "\n",
        "# 3. 누적합 기준으로 95% 이상 되는 feature 추리기\n",
        "importance_df['cumsum'] = importance_df['mean_abs_shap'].cumsum()\n",
        "importance_df['cumsum_pct'] = importance_df['cumsum'] / importance_df['mean_abs_shap'].sum()\n",
        "\n",
        "# 4. 상위 95% 중요 변수만 필터링\n",
        "top_features = importance_df[importance_df['cumsum_pct'] <= 0.99]['feature'].tolist()\n",
        "\n",
        "# 🎉 최종 중요 변수만 남긴 X (선택사항)\n",
        "X_top = X[top_features]\n",
        "\n",
        "print(f\"📊 상위 95% 중요 변수 개수: {len(top_features)}개\")"
      ]
    },
    {
      "cell_type": "code",
      "execution_count": null,
      "id": "4e473f49-f6ea-4ec1-8ae9-84d96c6156e3",
      "metadata": {
        "id": "4e473f49-f6ea-4ec1-8ae9-84d96c6156e3"
      },
      "outputs": [],
      "source": [
        "final_model = XGBRegressor(\n",
        "    n_estimators=665,\n",
        "    learning_rate=0.07468890154873875,\n",
        "    max_depth=8,\n",
        "    random_state=29,\n",
        "    min_child_weight=10,\n",
        "    tree_method='hist'\n",
        ")\n",
        "\n",
        "# 💥 전부 다 학습에 씀\n",
        "final_model.fit(X_top, y)"
      ]
    },
    {
      "cell_type": "code",
      "execution_count": null,
      "id": "2c76e832-3921-4057-84bf-a13e4be210df",
      "metadata": {
        "id": "2c76e832-3921-4057-84bf-a13e4be210df"
      },
      "outputs": [],
      "source": [
        "y_pred = final_model.predict(X_top)\n",
        "\n",
        "rmse = mean_squared_error(y, y_pred, squared=False)\n",
        "print(f'✅ 검증 RMSE: {rmse:.4f} °C')"
      ]
    },
    {
      "cell_type": "code",
      "execution_count": null,
      "id": "3edbd61e-ccad-49d9-bd0a-125e3b0e17df",
      "metadata": {
        "id": "3edbd61e-ccad-49d9-bd0a-125e3b0e17df"
      },
      "outputs": [],
      "source": [
        "test_top = test[top_features]"
      ]
    },
    {
      "cell_type": "code",
      "execution_count": null,
      "id": "213412a9-5e51-4cb5-81ec-ff311011584b",
      "metadata": {
        "id": "213412a9-5e51-4cb5-81ec-ff311011584b"
      },
      "outputs": [],
      "source": [
        "prediction = final_model.predict(test_top)\n",
        "submission_df = pd.DataFrame({'target':prediction})\n",
        "submission_df.to_csv('yesShap_8.csv',index=True)"
      ]
    },
    {
      "cell_type": "code",
      "execution_count": null,
      "id": "b3bf94be-bbb4-40a3-a5b2-27a36e90e839",
      "metadata": {
        "id": "b3bf94be-bbb4-40a3-a5b2-27a36e90e839"
      },
      "outputs": [],
      "source": []
    }
  ],
  "metadata": {
    "kernelspec": {
      "display_name": "Python [conda env:base] *",
      "language": "python",
      "name": "conda-base-py"
    },
    "language_info": {
      "codemirror_mode": {
        "name": "ipython",
        "version": 3
      },
      "file_extension": ".py",
      "mimetype": "text/x-python",
      "name": "python",
      "nbconvert_exporter": "python",
      "pygments_lexer": "ipython3",
      "version": "3.12.7"
    },
    "colab": {
      "provenance": [],
      "gpuType": "T4"
    },
    "accelerator": "GPU"
  },
  "nbformat": 4,
  "nbformat_minor": 5
}