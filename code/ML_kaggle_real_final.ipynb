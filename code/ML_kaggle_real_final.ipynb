{
  "cells": [
    {
      "cell_type": "code",
      "source": [
        "from google.colab import drive\n",
        "drive.mount('/content/drive')"
      ],
      "metadata": {
        "colab": {
          "base_uri": "https://localhost:8080/"
        },
        "id": "LpasfYLOg2XW",
        "outputId": "90b2bbaf-2685-43d6-f8e0-a2e89da776ec"
      },
      "id": "LpasfYLOg2XW",
      "execution_count": 2,
      "outputs": [
        {
          "output_type": "stream",
          "name": "stdout",
          "text": [
            "Drive already mounted at /content/drive; to attempt to forcibly remount, call drive.mount(\"/content/drive\", force_remount=True).\n"
          ]
        }
      ]
    },
    {
      "cell_type": "code",
      "execution_count": 1,
      "id": "36eb1bdd-8da2-48d2-8308-2349aa80fb07",
      "metadata": {
        "id": "36eb1bdd-8da2-48d2-8308-2349aa80fb07"
      },
      "outputs": [],
      "source": [
        "import pandas as pd\n",
        "\n",
        "train_path = \"/content/drive/MyDrive/ML_data/train_dataset.csv\"\n",
        "station_path = \"/content/drive/MyDrive/ML_data/station_info.csv\"\n",
        "\n",
        "train_df = pd.read_csv(train_path)\n",
        "station_df = pd.read_csv(station_path)"
      ]
    },
    {
      "cell_type": "code",
      "execution_count": 3,
      "id": "631ea1bc-2dee-4732-beeb-74336dcec5b5",
      "metadata": {
        "colab": {
          "base_uri": "https://localhost:8080/"
        },
        "id": "631ea1bc-2dee-4732-beeb-74336dcec5b5",
        "outputId": "2509507a-ba5f-4af9-89b2-ce94a2f174e5"
      },
      "outputs": [
        {
          "output_type": "stream",
          "name": "stderr",
          "text": [
            "<ipython-input-3-6dd1c2897cd9>:32: FutureWarning: A value is trying to be set on a copy of a DataFrame or Series through chained assignment using an inplace method.\n",
            "The behavior will change in pandas 3.0. This inplace method will never work because the intermediate object on which we are setting values always behaves as a copy.\n",
            "\n",
            "For example, when doing 'df[col].method(value, inplace=True)', try using 'df.method({col: value}, inplace=True)' or df[col] = df[col].method(value) instead, to perform the operation inplace on the original object.\n",
            "\n",
            "\n",
            "  df[col].fillna(0, inplace=True)\n",
            "<ipython-input-3-6dd1c2897cd9>:34: FutureWarning: A value is trying to be set on a copy of a DataFrame or Series through chained assignment using an inplace method.\n",
            "The behavior will change in pandas 3.0. This inplace method will never work because the intermediate object on which we are setting values always behaves as a copy.\n",
            "\n",
            "For example, when doing 'df[col].method(value, inplace=True)', try using 'df.method({col: value}, inplace=True)' or df[col] = df[col].method(value) instead, to perform the operation inplace on the original object.\n",
            "\n",
            "\n",
            "  df[col].fillna(df[col].max()+3, inplace=True)\n",
            "<ipython-input-3-6dd1c2897cd9>:55: PerformanceWarning: DataFrame is highly fragmented.  This is usually the result of calling `frame.insert` many times, which has poor performance.  Consider joining all columns at once using pd.concat(axis=1) instead. To get a de-fragmented frame, use `newframe = frame.copy()`\n",
            "  df[f'mag_temp_{i}'] = dew_to_temp(df[f'dew_point_{i}'], df[f'humidity_{i}'])\n",
            "<ipython-input-3-6dd1c2897cd9>:55: PerformanceWarning: DataFrame is highly fragmented.  This is usually the result of calling `frame.insert` many times, which has poor performance.  Consider joining all columns at once using pd.concat(axis=1) instead. To get a de-fragmented frame, use `newframe = frame.copy()`\n",
            "  df[f'mag_temp_{i}'] = dew_to_temp(df[f'dew_point_{i}'], df[f'humidity_{i}'])\n",
            "<ipython-input-3-6dd1c2897cd9>:55: PerformanceWarning: DataFrame is highly fragmented.  This is usually the result of calling `frame.insert` many times, which has poor performance.  Consider joining all columns at once using pd.concat(axis=1) instead. To get a de-fragmented frame, use `newframe = frame.copy()`\n",
            "  df[f'mag_temp_{i}'] = dew_to_temp(df[f'dew_point_{i}'], df[f'humidity_{i}'])\n",
            "<ipython-input-3-6dd1c2897cd9>:55: PerformanceWarning: DataFrame is highly fragmented.  This is usually the result of calling `frame.insert` many times, which has poor performance.  Consider joining all columns at once using pd.concat(axis=1) instead. To get a de-fragmented frame, use `newframe = frame.copy()`\n",
            "  df[f'mag_temp_{i}'] = dew_to_temp(df[f'dew_point_{i}'], df[f'humidity_{i}'])\n",
            "<ipython-input-3-6dd1c2897cd9>:55: PerformanceWarning: DataFrame is highly fragmented.  This is usually the result of calling `frame.insert` many times, which has poor performance.  Consider joining all columns at once using pd.concat(axis=1) instead. To get a de-fragmented frame, use `newframe = frame.copy()`\n",
            "  df[f'mag_temp_{i}'] = dew_to_temp(df[f'dew_point_{i}'], df[f'humidity_{i}'])\n",
            "<ipython-input-3-6dd1c2897cd9>:55: PerformanceWarning: DataFrame is highly fragmented.  This is usually the result of calling `frame.insert` many times, which has poor performance.  Consider joining all columns at once using pd.concat(axis=1) instead. To get a de-fragmented frame, use `newframe = frame.copy()`\n",
            "  df[f'mag_temp_{i}'] = dew_to_temp(df[f'dew_point_{i}'], df[f'humidity_{i}'])\n",
            "<ipython-input-3-6dd1c2897cd9>:55: PerformanceWarning: DataFrame is highly fragmented.  This is usually the result of calling `frame.insert` many times, which has poor performance.  Consider joining all columns at once using pd.concat(axis=1) instead. To get a de-fragmented frame, use `newframe = frame.copy()`\n",
            "  df[f'mag_temp_{i}'] = dew_to_temp(df[f'dew_point_{i}'], df[f'humidity_{i}'])\n",
            "<ipython-input-3-6dd1c2897cd9>:55: PerformanceWarning: DataFrame is highly fragmented.  This is usually the result of calling `frame.insert` many times, which has poor performance.  Consider joining all columns at once using pd.concat(axis=1) instead. To get a de-fragmented frame, use `newframe = frame.copy()`\n",
            "  df[f'mag_temp_{i}'] = dew_to_temp(df[f'dew_point_{i}'], df[f'humidity_{i}'])\n",
            "<ipython-input-3-6dd1c2897cd9>:55: PerformanceWarning: DataFrame is highly fragmented.  This is usually the result of calling `frame.insert` many times, which has poor performance.  Consider joining all columns at once using pd.concat(axis=1) instead. To get a de-fragmented frame, use `newframe = frame.copy()`\n",
            "  df[f'mag_temp_{i}'] = dew_to_temp(df[f'dew_point_{i}'], df[f'humidity_{i}'])\n",
            "<ipython-input-3-6dd1c2897cd9>:55: PerformanceWarning: DataFrame is highly fragmented.  This is usually the result of calling `frame.insert` many times, which has poor performance.  Consider joining all columns at once using pd.concat(axis=1) instead. To get a de-fragmented frame, use `newframe = frame.copy()`\n",
            "  df[f'mag_temp_{i}'] = dew_to_temp(df[f'dew_point_{i}'], df[f'humidity_{i}'])\n",
            "<ipython-input-3-6dd1c2897cd9>:55: PerformanceWarning: DataFrame is highly fragmented.  This is usually the result of calling `frame.insert` many times, which has poor performance.  Consider joining all columns at once using pd.concat(axis=1) instead. To get a de-fragmented frame, use `newframe = frame.copy()`\n",
            "  df[f'mag_temp_{i}'] = dew_to_temp(df[f'dew_point_{i}'], df[f'humidity_{i}'])\n",
            "<ipython-input-3-6dd1c2897cd9>:55: PerformanceWarning: DataFrame is highly fragmented.  This is usually the result of calling `frame.insert` many times, which has poor performance.  Consider joining all columns at once using pd.concat(axis=1) instead. To get a de-fragmented frame, use `newframe = frame.copy()`\n",
            "  df[f'mag_temp_{i}'] = dew_to_temp(df[f'dew_point_{i}'], df[f'humidity_{i}'])\n",
            "<ipython-input-3-6dd1c2897cd9>:55: PerformanceWarning: DataFrame is highly fragmented.  This is usually the result of calling `frame.insert` many times, which has poor performance.  Consider joining all columns at once using pd.concat(axis=1) instead. To get a de-fragmented frame, use `newframe = frame.copy()`\n",
            "  df[f'mag_temp_{i}'] = dew_to_temp(df[f'dew_point_{i}'], df[f'humidity_{i}'])\n",
            "<ipython-input-3-6dd1c2897cd9>:55: PerformanceWarning: DataFrame is highly fragmented.  This is usually the result of calling `frame.insert` many times, which has poor performance.  Consider joining all columns at once using pd.concat(axis=1) instead. To get a de-fragmented frame, use `newframe = frame.copy()`\n",
            "  df[f'mag_temp_{i}'] = dew_to_temp(df[f'dew_point_{i}'], df[f'humidity_{i}'])\n",
            "<ipython-input-3-6dd1c2897cd9>:55: PerformanceWarning: DataFrame is highly fragmented.  This is usually the result of calling `frame.insert` many times, which has poor performance.  Consider joining all columns at once using pd.concat(axis=1) instead. To get a de-fragmented frame, use `newframe = frame.copy()`\n",
            "  df[f'mag_temp_{i}'] = dew_to_temp(df[f'dew_point_{i}'], df[f'humidity_{i}'])\n",
            "<ipython-input-3-6dd1c2897cd9>:55: PerformanceWarning: DataFrame is highly fragmented.  This is usually the result of calling `frame.insert` many times, which has poor performance.  Consider joining all columns at once using pd.concat(axis=1) instead. To get a de-fragmented frame, use `newframe = frame.copy()`\n",
            "  df[f'mag_temp_{i}'] = dew_to_temp(df[f'dew_point_{i}'], df[f'humidity_{i}'])\n",
            "<ipython-input-3-6dd1c2897cd9>:55: PerformanceWarning: DataFrame is highly fragmented.  This is usually the result of calling `frame.insert` many times, which has poor performance.  Consider joining all columns at once using pd.concat(axis=1) instead. To get a de-fragmented frame, use `newframe = frame.copy()`\n",
            "  df[f'mag_temp_{i}'] = dew_to_temp(df[f'dew_point_{i}'], df[f'humidity_{i}'])\n",
            "<ipython-input-3-6dd1c2897cd9>:55: PerformanceWarning: DataFrame is highly fragmented.  This is usually the result of calling `frame.insert` many times, which has poor performance.  Consider joining all columns at once using pd.concat(axis=1) instead. To get a de-fragmented frame, use `newframe = frame.copy()`\n",
            "  df[f'mag_temp_{i}'] = dew_to_temp(df[f'dew_point_{i}'], df[f'humidity_{i}'])\n",
            "<ipython-input-3-6dd1c2897cd9>:55: PerformanceWarning: DataFrame is highly fragmented.  This is usually the result of calling `frame.insert` many times, which has poor performance.  Consider joining all columns at once using pd.concat(axis=1) instead. To get a de-fragmented frame, use `newframe = frame.copy()`\n",
            "  df[f'mag_temp_{i}'] = dew_to_temp(df[f'dew_point_{i}'], df[f'humidity_{i}'])\n",
            "<ipython-input-3-6dd1c2897cd9>:55: PerformanceWarning: DataFrame is highly fragmented.  This is usually the result of calling `frame.insert` many times, which has poor performance.  Consider joining all columns at once using pd.concat(axis=1) instead. To get a de-fragmented frame, use `newframe = frame.copy()`\n",
            "  df[f'mag_temp_{i}'] = dew_to_temp(df[f'dew_point_{i}'], df[f'humidity_{i}'])\n",
            "<ipython-input-3-6dd1c2897cd9>:55: PerformanceWarning: DataFrame is highly fragmented.  This is usually the result of calling `frame.insert` many times, which has poor performance.  Consider joining all columns at once using pd.concat(axis=1) instead. To get a de-fragmented frame, use `newframe = frame.copy()`\n",
            "  df[f'mag_temp_{i}'] = dew_to_temp(df[f'dew_point_{i}'], df[f'humidity_{i}'])\n",
            "<ipython-input-3-6dd1c2897cd9>:55: PerformanceWarning: DataFrame is highly fragmented.  This is usually the result of calling `frame.insert` many times, which has poor performance.  Consider joining all columns at once using pd.concat(axis=1) instead. To get a de-fragmented frame, use `newframe = frame.copy()`\n",
            "  df[f'mag_temp_{i}'] = dew_to_temp(df[f'dew_point_{i}'], df[f'humidity_{i}'])\n",
            "<ipython-input-3-6dd1c2897cd9>:55: PerformanceWarning: DataFrame is highly fragmented.  This is usually the result of calling `frame.insert` many times, which has poor performance.  Consider joining all columns at once using pd.concat(axis=1) instead. To get a de-fragmented frame, use `newframe = frame.copy()`\n",
            "  df[f'mag_temp_{i}'] = dew_to_temp(df[f'dew_point_{i}'], df[f'humidity_{i}'])\n",
            "<ipython-input-3-6dd1c2897cd9>:55: PerformanceWarning: DataFrame is highly fragmented.  This is usually the result of calling `frame.insert` many times, which has poor performance.  Consider joining all columns at once using pd.concat(axis=1) instead. To get a de-fragmented frame, use `newframe = frame.copy()`\n",
            "  df[f'mag_temp_{i}'] = dew_to_temp(df[f'dew_point_{i}'], df[f'humidity_{i}'])\n"
          ]
        }
      ],
      "source": [
        "import pandas as pd\n",
        "import numpy as np\n",
        "import xgboost as xgb\n",
        "from sklearn.model_selection import train_test_split\n",
        "from sklearn.metrics import mean_squared_error\n",
        "from math import sqrt\n",
        "from datetime import datetime\n",
        "\n",
        "# ===== 데이터 전처리 함수들 =====\n",
        "\n",
        "def dew_to_temp(dew, rh):\n",
        "    a = 17.62\n",
        "    b = 243.12\n",
        "    gamma_inv = (a * dew) / (b + dew) - np.log(rh / 100.0)\n",
        "    return (b * gamma_inv) / (a - gamma_inv)\n",
        "\n",
        "def preprocess_data(df, station_df):\n",
        "    df = df.copy()\n",
        "    df.replace(-9999, np.nan, inplace=True)\n",
        "    df['date_obj'] = pd.to_datetime('2024-' + df['date'], format='%Y-%m-%d', errors='coerce')\n",
        "    df = df[df['date_obj'].notna()]  # 이상한 날짜 제거\n",
        "\n",
        "    df['day_of_year'] = df['date_obj'].dt.dayofyear\n",
        "    df['doy_sin'] = np.sin(2 * np.pi * df['day_of_year'] / 365)\n",
        "    df['doy_cos'] = np.cos(2 * np.pi * df['day_of_year'] / 365)\n",
        "    df.drop(columns=['date', 'date_obj'], inplace=True)\n",
        "\n",
        "    zero_key = ['sunshine_duration', 'snow_depth', 'precipitation', 'visibility', 'wind_speed', 'cloud_cover']\n",
        "\n",
        "    for col in df.columns:\n",
        "        if any(key in col for key in zero_key):\n",
        "            df[col].fillna(0, inplace=True)\n",
        "        if \"min_cloud_height\" in col:\n",
        "            df[col].fillna(df[col].max()+3, inplace=True)\n",
        "\n",
        "    sum_col = ['visibility']\n",
        "    mean_col = ['cloud_cover','wind_speed']\n",
        "\n",
        "    for col in sum_col:\n",
        "        df[f'{col}_sum'] = df[[f'{col}_{i}' for i in range(21)]].sum(axis=1)\n",
        "\n",
        "    for col in mean_col:\n",
        "        df[f'{col}_mean'] = df[[f'{col}_{i}' for i in range(21)]].mean(axis=1)\n",
        "\n",
        "    # 원래 시간대별 열들 삭제\n",
        "    drop_cols = [f'{col}_{i}' for col in (sum_col + mean_col) for i in range(21)]\n",
        "    df.drop(columns=drop_cols, inplace=True)\n",
        "\n",
        "    bf_nan_columns_list = df.columns[df.isnull().any()].tolist()\n",
        "\n",
        "    for col in bf_nan_columns_list:\n",
        "        df[col] = df.groupby(['day_of_year'])[col].transform(lambda x: x.fillna(x.mean()))\n",
        "\n",
        "    for i in range(24):\n",
        "        df[f'mag_temp_{i}'] = dew_to_temp(df[f'dew_point_{i}'], df[f'humidity_{i}'])\n",
        "\n",
        "    df.drop(columns=['station_name', 'station', 'id'], inplace=True)\n",
        "    return df\n",
        "\n",
        "processed_df = preprocess_data(train_df, station_df)"
      ]
    },
    {
      "cell_type": "code",
      "execution_count": 4,
      "id": "303d8440-9f55-437e-868f-605c7b887c07",
      "metadata": {
        "colab": {
          "base_uri": "https://localhost:8080/"
        },
        "id": "303d8440-9f55-437e-868f-605c7b887c07",
        "outputId": "04e83c97-26c4-4b21-e95c-b0670227beef"
      },
      "outputs": [
        {
          "output_type": "execute_result",
          "data": {
            "text/plain": [
              "np.int64(0)"
            ]
          },
          "metadata": {},
          "execution_count": 4
        }
      ],
      "source": [
        "processed_df.isna().sum().sum()"
      ]
    },
    {
      "cell_type": "code",
      "execution_count": 11,
      "id": "79c1e974-e890-439d-9eac-774268226c51",
      "metadata": {
        "colab": {
          "base_uri": "https://localhost:8080/"
        },
        "id": "79c1e974-e890-439d-9eac-774268226c51",
        "outputId": "1ef5266a-9452-4dc0-c99b-0ee110f0926b"
      },
      "outputs": [
        {
          "output_type": "stream",
          "name": "stderr",
          "text": [
            "/usr/local/lib/python3.11/dist-packages/xgboost/core.py:158: UserWarning: [07:33:03] WARNING: /workspace/src/common/error_msg.cc:58: Falling back to prediction using DMatrix due to mismatched devices. This might lead to higher memory usage and slower performance. XGBoost is running on: cuda:0, while the input data is on: cpu.\n",
            "Potential solutions:\n",
            "- Use a data structure that matches the device ordinal in the booster.\n",
            "- Set the device for booster before call to inplace_predict.\n",
            "\n",
            "This warning will only be shown once.\n",
            "\n",
            "  warnings.warn(smsg, UserWarning)\n"
          ]
        },
        {
          "output_type": "stream",
          "name": "stdout",
          "text": [
            "✅ 트레인 RMSE: 0.3212 °C\n",
            "✅ 검증 RMSE: 1.2663 °C\n"
          ]
        }
      ],
      "source": [
        "from xgboost import XGBRegressor\n",
        "from sklearn.model_selection import train_test_split\n",
        "from sklearn.metrics import mean_squared_error\n",
        "import pandas as pd\n",
        "import numpy as np\n",
        "\n",
        "df = processed_df\n",
        "\n",
        "X = df.drop(columns=['target'])\n",
        "y = df['target']\n",
        "\n",
        "X_train, X_val, y_train, y_val = train_test_split(X, y, test_size=0.2, random_state=42,stratify=df['day_of_year'])\n",
        "\n",
        "xgb_params =  {'device':'cuda','max_depth': 7, 'learning_rate': 0.05409400236764267, 'n_estimators': 670,\n",
        "               'min_child_weight': 8, 'subsample': 0.817198601322624, 'colsample_bytree': 0.6388670310566312,\n",
        "               'gamma': 0.36186946516047686, 'lambda': 6.072065371409787, 'alpha': 0.07418212565365712}\n",
        "\n",
        "model = xgb.XGBRegressor(random_state=42, **xgb_params)\n",
        "model.fit(X_train, y_train)\n",
        "\n",
        "train_pred = model.predict(X_train)\n",
        "val_pred = model.predict(X_val)\n",
        "\n",
        "train_rmse = mean_squared_error(y_train, train_pred)**(1/2)\n",
        "val_rmse = mean_squared_error(y_val, val_pred)**(1/2)\n",
        "print(f'✅ 트레인 RMSE: {train_rmse:.4f} °C')\n",
        "print(f'✅ 검증 RMSE: {val_rmse:.4f} °C')"
      ]
    },
    {
      "cell_type": "code",
      "source": [
        "!pip install shap xgboost"
      ],
      "metadata": {
        "colab": {
          "base_uri": "https://localhost:8080/"
        },
        "id": "kQXPz2MojlsL",
        "outputId": "94c68c6f-c831-4a13-c476-616b5c45bd77"
      },
      "id": "kQXPz2MojlsL",
      "execution_count": 6,
      "outputs": [
        {
          "output_type": "stream",
          "name": "stdout",
          "text": [
            "Requirement already satisfied: shap in /usr/local/lib/python3.11/dist-packages (0.47.2)\n",
            "Requirement already satisfied: xgboost in /usr/local/lib/python3.11/dist-packages (2.1.4)\n",
            "Requirement already satisfied: numpy in /usr/local/lib/python3.11/dist-packages (from shap) (2.0.2)\n",
            "Requirement already satisfied: scipy in /usr/local/lib/python3.11/dist-packages (from shap) (1.15.3)\n",
            "Requirement already satisfied: scikit-learn in /usr/local/lib/python3.11/dist-packages (from shap) (1.6.1)\n",
            "Requirement already satisfied: pandas in /usr/local/lib/python3.11/dist-packages (from shap) (2.2.2)\n",
            "Requirement already satisfied: tqdm>=4.27.0 in /usr/local/lib/python3.11/dist-packages (from shap) (4.67.1)\n",
            "Requirement already satisfied: packaging>20.9 in /usr/local/lib/python3.11/dist-packages (from shap) (24.2)\n",
            "Requirement already satisfied: slicer==0.0.8 in /usr/local/lib/python3.11/dist-packages (from shap) (0.0.8)\n",
            "Requirement already satisfied: numba>=0.54 in /usr/local/lib/python3.11/dist-packages (from shap) (0.60.0)\n",
            "Requirement already satisfied: cloudpickle in /usr/local/lib/python3.11/dist-packages (from shap) (3.1.1)\n",
            "Requirement already satisfied: typing-extensions in /usr/local/lib/python3.11/dist-packages (from shap) (4.13.2)\n",
            "Requirement already satisfied: nvidia-nccl-cu12 in /usr/local/lib/python3.11/dist-packages (from xgboost) (2.21.5)\n",
            "Requirement already satisfied: llvmlite<0.44,>=0.43.0dev0 in /usr/local/lib/python3.11/dist-packages (from numba>=0.54->shap) (0.43.0)\n",
            "Requirement already satisfied: python-dateutil>=2.8.2 in /usr/local/lib/python3.11/dist-packages (from pandas->shap) (2.9.0.post0)\n",
            "Requirement already satisfied: pytz>=2020.1 in /usr/local/lib/python3.11/dist-packages (from pandas->shap) (2025.2)\n",
            "Requirement already satisfied: tzdata>=2022.7 in /usr/local/lib/python3.11/dist-packages (from pandas->shap) (2025.2)\n",
            "Requirement already satisfied: joblib>=1.2.0 in /usr/local/lib/python3.11/dist-packages (from scikit-learn->shap) (1.5.0)\n",
            "Requirement already satisfied: threadpoolctl>=3.1.0 in /usr/local/lib/python3.11/dist-packages (from scikit-learn->shap) (3.6.0)\n",
            "Requirement already satisfied: six>=1.5 in /usr/local/lib/python3.11/dist-packages (from python-dateutil>=2.8.2->pandas->shap) (1.17.0)\n"
          ]
        }
      ]
    },
    {
      "cell_type": "code",
      "source": [
        "import shap\n",
        "import matplotlib.pyplot as plt\n",
        "\n",
        "# SHAP 값 계산\n",
        "explainer = shap.Explainer(model, X_train)\n",
        "shap_values = explainer(X_train)\n",
        "\n",
        "# 시각화 설정\n",
        "plt.figure(figsize=(10, 6))\n",
        "shap.plots.bar(shap_values, max_display=10, show=False)\n",
        "\n",
        "# 그래프 스타일 조정\n",
        "plt.title(\"Top 10 Features by SHAP Value (Mean Absolute Impact)\", fontsize=14)\n",
        "plt.xlabel(\"Mean |SHAP Value|\", fontsize=12)\n",
        "plt.ylabel(\"Features\", fontsize=12)\n",
        "plt.gca().tick_params(axis='y', labelsize=10)\n",
        "plt.tight_layout()\n",
        "\n",
        "plt.show()"
      ],
      "metadata": {
        "colab": {
          "base_uri": "https://localhost:8080/",
          "height": 676
        },
        "id": "5o6JmCyUjArT",
        "outputId": "aa2dda84-332b-414e-bee9-c74b06b25ef2"
      },
      "id": "5o6JmCyUjArT",
      "execution_count": 7,
      "outputs": [
        {
          "output_type": "stream",
          "name": "stderr",
          "text": [
            "100%|===================| 10500/10505 [10:45<00:00]       "
          ]
        },
        {
          "output_type": "display_data",
          "data": {
            "text/plain": [
              "<Figure size 800x650 with 1 Axes>"
            ],
            "image/png": "[encoded data removed]"
          },
          "metadata": {}
        }
      ]
    },
    {
      "cell_type": "code",
      "execution_count": 10,
      "id": "e0b8380c-bffb-4690-8b5a-c0b71a23d200",
      "metadata": {
        "id": "e0b8380c-bffb-4690-8b5a-c0b71a23d200"
      },
      "outputs": [],
      "source": [
        "from sklearn.model_selection import cross_val_score, KFold\n",
        "from sklearn.metrics import make_scorer, mean_squared_error\n",
        "import xgboost as xgb\n",
        "import numpy as np\n",
        "\n",
        "def rmse_score(y_true, y_pred):\n",
        "    return np.sqrt(mean_squared_error(y_true, y_pred))\n",
        "\n",
        "def objective(trial):\n",
        "    params = {\n",
        "        \"verbosity\": 0,\n",
        "        \"objective\": \"reg:squarederror\",\n",
        "        \"booster\": \"gbtree\",\n",
        "        \"tree_method\": \"gpu_hist\",\n",
        "        \"predictor\": \"gpu_predictor\",\n",
        "        \"max_depth\": trial.suggest_int(\"max_depth\", 3, 12),\n",
        "        \"learning_rate\": trial.suggest_float(\"learning_rate\", 0.01, 0.3),\n",
        "        \"n_estimators\": trial.suggest_int(\"n_estimators\", 100, 1000),\n",
        "        \"min_child_weight\": trial.suggest_int(\"min_child_weight\", 1, 10),\n",
        "        \"subsample\": trial.suggest_float(\"subsample\", 0.5, 1.0),\n",
        "        \"colsample_bytree\": trial.suggest_float(\"colsample_bytree\", 0.5, 1.0),\n",
        "        \"gamma\": trial.suggest_float(\"gamma\", 0, 5),\n",
        "        \"lambda\": trial.suggest_float(\"lambda\", 1e-3, 10.0),\n",
        "        \"alpha\": trial.suggest_float(\"alpha\", 1e-3, 10.0),\n",
        "        \"device\": \"cuda\"\n",
        "    }\n",
        "\n",
        "    X = processed_df.drop(columns=['target'])\n",
        "    y = processed_df['target']\n",
        "\n",
        "    model = xgb.XGBRegressor(**params)\n",
        "\n",
        "    # KFold 설정 (필요시 StratifiedKFold 아님, 회귀니까)\n",
        "    kf = KFold(n_splits=5, shuffle=True, random_state=42)\n",
        "\n",
        "    # RMSE는 낮을수록 좋지만 cross_val_score는 높은 값이 좋은 방향이므로, 음수로 바꿔줌\n",
        "    scores = cross_val_score(model, X, y, scoring=make_scorer(rmse_score, greater_is_better=False), cv=kf)\n",
        "\n",
        "    # score는 음수 RMSE이므로 양수로 바꾸고 평균\n",
        "    mean_rmse = -scores.mean()\n",
        "    return mean_rmse"
      ]
    },
    {
      "cell_type": "code",
      "source": [
        "!pip install optuna xgboost scikit-learn"
      ],
      "metadata": {
        "collapsed": true,
        "colab": {
          "base_uri": "https://localhost:8080/"
        },
        "id": "jXafYU4LiqXq",
        "outputId": "b4c4ac26-26f7-4e26-a706-0ecd20239ba6"
      },
      "id": "jXafYU4LiqXq",
      "execution_count": 8,
      "outputs": [
        {
          "output_type": "stream",
          "name": "stdout",
          "text": [
            "Requirement already satisfied: optuna in /usr/local/lib/python3.11/dist-packages (4.3.0)\n",
            "Requirement already satisfied: xgboost in /usr/local/lib/python3.11/dist-packages (2.1.4)\n",
            "Requirement already satisfied: scikit-learn in /usr/local/lib/python3.11/dist-packages (1.6.1)\n",
            "Requirement already satisfied: alembic>=1.5.0 in /usr/local/lib/python3.11/dist-packages (from optuna) (1.15.2)\n",
            "Requirement already satisfied: colorlog in /usr/local/lib/python3.11/dist-packages (from optuna) (6.9.0)\n",
            "Requirement already satisfied: numpy in /usr/local/lib/python3.11/dist-packages (from optuna) (2.0.2)\n",
            "Requirement already satisfied: packaging>=20.0 in /usr/local/lib/python3.11/dist-packages (from optuna) (24.2)\n",
            "Requirement already satisfied: sqlalchemy>=1.4.2 in /usr/local/lib/python3.11/dist-packages (from optuna) (2.0.40)\n",
            "Requirement already satisfied: tqdm in /usr/local/lib/python3.11/dist-packages (from optuna) (4.67.1)\n",
            "Requirement already satisfied: PyYAML in /usr/local/lib/python3.11/dist-packages (from optuna) (6.0.2)\n",
            "Requirement already satisfied: nvidia-nccl-cu12 in /usr/local/lib/python3.11/dist-packages (from xgboost) (2.21.5)\n",
            "Requirement already satisfied: scipy in /usr/local/lib/python3.11/dist-packages (from xgboost) (1.15.3)\n",
            "Requirement already satisfied: joblib>=1.2.0 in /usr/local/lib/python3.11/dist-packages (from scikit-learn) (1.5.0)\n",
            "Requirement already satisfied: threadpoolctl>=3.1.0 in /usr/local/lib/python3.11/dist-packages (from scikit-learn) (3.6.0)\n",
            "Requirement already satisfied: Mako in /usr/lib/python3/dist-packages (from alembic>=1.5.0->optuna) (1.1.3)\n",
            "Requirement already satisfied: typing-extensions>=4.12 in /usr/local/lib/python3.11/dist-packages (from alembic>=1.5.0->optuna) (4.13.2)\n",
            "Requirement already satisfied: greenlet>=1 in /usr/local/lib/python3.11/dist-packages (from sqlalchemy>=1.4.2->optuna) (3.2.1)\n"
          ]
        }
      ]
    },
    {
      "cell_type": "code",
      "source": [
        "import optuna\n",
        "\n",
        "study = optuna.create_study(direction=\"minimize\")\n",
        "study.optimize(objective, n_trials=100)\n",
        "\n",
        "print(\"Best trial:\")\n",
        "trial = study.best_trial\n",
        "print(f\"  RMSE: {trial.value}\")\n",
        "print(\"  Params: \")\n",
        "for key, value in trial.params.items():\n",
        "    print(f\"    {key}: {value}\")"
      ],
      "metadata": {
        "id": "ClxQcGHBigWg"
      },
      "id": "ClxQcGHBigWg",
      "execution_count": null,
      "outputs": []
    },
    {
      "cell_type": "code",
      "execution_count": 12,
      "id": "7993c3f2-6c66-4a0a-87ee-7df4517a4ba6",
      "metadata": {
        "colab": {
          "base_uri": "https://localhost:8080/"
        },
        "id": "7993c3f2-6c66-4a0a-87ee-7df4517a4ba6",
        "outputId": "f9c4c554-1529-47c9-fb55-a75d99d3d20d"
      },
      "outputs": [
        {
          "output_type": "stream",
          "name": "stdout",
          "text": [
            "Training model with seed 12\n",
            "Training model with seed 29\n",
            "Training model with seed 53\n",
            "Training model with seed 77\n",
            "Training model with seed 111\n",
            "Training model with seed 123\n",
            "Training model with seed 404\n",
            "Training model with seed 333\n",
            "Training model with seed 222\n",
            "Training model with seed 923\n",
            "[Soft-Ensemble] Validation RMSE: 1.2436\n"
          ]
        }
      ],
      "source": [
        "import xgboost as xgb\n",
        "from sklearn.metrics import mean_squared_error\n",
        "import numpy as np\n",
        "\n",
        "# 여기에 하이퍼파라미터 넣기\n",
        "xgb_params =  {'device':'cuda', 'max_depth': 7, 'learning_rate': 0.05409400236764267, 'n_estimators': 670,\n",
        "               'min_child_weight': 8, 'subsample': 0.817198601322624, 'colsample_bytree': 0.6388670310566312,\n",
        "               'gamma': 0.36186946516047686, 'lambda': 6.072065371409787, 'alpha': 0.07418212565365712}\n",
        "\n",
        "X_train, X_val, y_train, y_val = train_test_split(X, y, test_size=0.2, random_state=42, stratify=df['day_of_year'])\n",
        "\n",
        "seeds = [12,29,53,77,111,123,404,333,222,923]\n",
        "val_preds = []\n",
        "test_preds = []\n",
        "for seed in seeds:\n",
        "    print(f\"Training model with seed {seed}\")\n",
        "    model = xgb.XGBRegressor(random_state=seed, **xgb_params)\n",
        "    model.fit(X_train, y_train, eval_set=[(X_val, y_val)], verbose=False)\n",
        "    val_pred = model.predict(X_val)\n",
        "    val_preds.append(val_pred)\n",
        "\n",
        "# 앙상블 예측 평균\n",
        "val_preds_mean = np.mean(val_preds, axis=0)\n",
        "\n",
        "# 평가\n",
        "rmse = mean_squared_error(y_val, val_preds_mean)**(1/2)\n",
        "print(f\"[Soft-Ensemble] Validation RMSE: {rmse:.4f}\")"
      ]
    },
    {
      "cell_type": "code",
      "execution_count": 13,
      "id": "119a4aa1-9aa6-46d6-bec1-490846d3bc4e",
      "metadata": {
        "colab": {
          "base_uri": "https://localhost:8080/"
        },
        "id": "119a4aa1-9aa6-46d6-bec1-490846d3bc4e",
        "outputId": "9cc280b9-001f-40e4-bf0d-70a2b688b1ee"
      },
      "outputs": [
        {
          "output_type": "stream",
          "name": "stdout",
          "text": [
            "Training model with seed 12\n",
            "Training model with seed 29\n",
            "Training model with seed 53\n",
            "Training model with seed 77\n",
            "Training model with seed 111\n",
            "Training model with seed 123\n",
            "Training model with seed 404\n",
            "Training model with seed 333\n",
            "Training model with seed 222\n",
            "Training model with seed 923\n"
          ]
        }
      ],
      "source": [
        "models = []\n",
        "for seed in seeds:\n",
        "    print(f\"Training model with seed {seed}\")\n",
        "    model = xgb.XGBRegressor(random_state=seed, **xgb_params)\n",
        "    model.fit(X,y)\n",
        "    models.append(model)"
      ]
    },
    {
      "cell_type": "code",
      "execution_count": 14,
      "id": "0befef15-204f-4f9f-b9d3-5d0bb2e3932c",
      "metadata": {
        "colab": {
          "base_uri": "https://localhost:8080/"
        },
        "id": "0befef15-204f-4f9f-b9d3-5d0bb2e3932c",
        "outputId": "59f2b6ee-afb8-44db-a5b5-043b4ff32015"
      },
      "outputs": [
        {
          "output_type": "stream",
          "name": "stderr",
          "text": [
            "<ipython-input-3-6dd1c2897cd9>:32: FutureWarning: A value is trying to be set on a copy of a DataFrame or Series through chained assignment using an inplace method.\n",
            "The behavior will change in pandas 3.0. This inplace method will never work because the intermediate object on which we are setting values always behaves as a copy.\n",
            "\n",
            "For example, when doing 'df[col].method(value, inplace=True)', try using 'df.method({col: value}, inplace=True)' or df[col] = df[col].method(value) instead, to perform the operation inplace on the original object.\n",
            "\n",
            "\n",
            "  df[col].fillna(0, inplace=True)\n",
            "<ipython-input-3-6dd1c2897cd9>:34: FutureWarning: A value is trying to be set on a copy of a DataFrame or Series through chained assignment using an inplace method.\n",
            "The behavior will change in pandas 3.0. This inplace method will never work because the intermediate object on which we are setting values always behaves as a copy.\n",
            "\n",
            "For example, when doing 'df[col].method(value, inplace=True)', try using 'df.method({col: value}, inplace=True)' or df[col] = df[col].method(value) instead, to perform the operation inplace on the original object.\n",
            "\n",
            "\n",
            "  df[col].fillna(df[col].max()+3, inplace=True)\n",
            "<ipython-input-3-6dd1c2897cd9>:55: PerformanceWarning: DataFrame is highly fragmented.  This is usually the result of calling `frame.insert` many times, which has poor performance.  Consider joining all columns at once using pd.concat(axis=1) instead. To get a de-fragmented frame, use `newframe = frame.copy()`\n",
            "  df[f'mag_temp_{i}'] = dew_to_temp(df[f'dew_point_{i}'], df[f'humidity_{i}'])\n",
            "<ipython-input-3-6dd1c2897cd9>:55: PerformanceWarning: DataFrame is highly fragmented.  This is usually the result of calling `frame.insert` many times, which has poor performance.  Consider joining all columns at once using pd.concat(axis=1) instead. To get a de-fragmented frame, use `newframe = frame.copy()`\n",
            "  df[f'mag_temp_{i}'] = dew_to_temp(df[f'dew_point_{i}'], df[f'humidity_{i}'])\n",
            "<ipython-input-3-6dd1c2897cd9>:55: PerformanceWarning: DataFrame is highly fragmented.  This is usually the result of calling `frame.insert` many times, which has poor performance.  Consider joining all columns at once using pd.concat(axis=1) instead. To get a de-fragmented frame, use `newframe = frame.copy()`\n",
            "  df[f'mag_temp_{i}'] = dew_to_temp(df[f'dew_point_{i}'], df[f'humidity_{i}'])\n",
            "<ipython-input-3-6dd1c2897cd9>:55: PerformanceWarning: DataFrame is highly fragmented.  This is usually the result of calling `frame.insert` many times, which has poor performance.  Consider joining all columns at once using pd.concat(axis=1) instead. To get a de-fragmented frame, use `newframe = frame.copy()`\n",
            "  df[f'mag_temp_{i}'] = dew_to_temp(df[f'dew_point_{i}'], df[f'humidity_{i}'])\n",
            "<ipython-input-3-6dd1c2897cd9>:55: PerformanceWarning: DataFrame is highly fragmented.  This is usually the result of calling `frame.insert` many times, which has poor performance.  Consider joining all columns at once using pd.concat(axis=1) instead. To get a de-fragmented frame, use `newframe = frame.copy()`\n",
            "  df[f'mag_temp_{i}'] = dew_to_temp(df[f'dew_point_{i}'], df[f'humidity_{i}'])\n",
            "<ipython-input-3-6dd1c2897cd9>:55: PerformanceWarning: DataFrame is highly fragmented.  This is usually the result of calling `frame.insert` many times, which has poor performance.  Consider joining all columns at once using pd.concat(axis=1) instead. To get a de-fragmented frame, use `newframe = frame.copy()`\n",
            "  df[f'mag_temp_{i}'] = dew_to_temp(df[f'dew_point_{i}'], df[f'humidity_{i}'])\n",
            "<ipython-input-3-6dd1c2897cd9>:55: PerformanceWarning: DataFrame is highly fragmented.  This is usually the result of calling `frame.insert` many times, which has poor performance.  Consider joining all columns at once using pd.concat(axis=1) instead. To get a de-fragmented frame, use `newframe = frame.copy()`\n",
            "  df[f'mag_temp_{i}'] = dew_to_temp(df[f'dew_point_{i}'], df[f'humidity_{i}'])\n",
            "<ipython-input-3-6dd1c2897cd9>:55: PerformanceWarning: DataFrame is highly fragmented.  This is usually the result of calling `frame.insert` many times, which has poor performance.  Consider joining all columns at once using pd.concat(axis=1) instead. To get a de-fragmented frame, use `newframe = frame.copy()`\n",
            "  df[f'mag_temp_{i}'] = dew_to_temp(df[f'dew_point_{i}'], df[f'humidity_{i}'])\n",
            "<ipython-input-3-6dd1c2897cd9>:55: PerformanceWarning: DataFrame is highly fragmented.  This is usually the result of calling `frame.insert` many times, which has poor performance.  Consider joining all columns at once using pd.concat(axis=1) instead. To get a de-fragmented frame, use `newframe = frame.copy()`\n",
            "  df[f'mag_temp_{i}'] = dew_to_temp(df[f'dew_point_{i}'], df[f'humidity_{i}'])\n",
            "<ipython-input-3-6dd1c2897cd9>:55: PerformanceWarning: DataFrame is highly fragmented.  This is usually the result of calling `frame.insert` many times, which has poor performance.  Consider joining all columns at once using pd.concat(axis=1) instead. To get a de-fragmented frame, use `newframe = frame.copy()`\n",
            "  df[f'mag_temp_{i}'] = dew_to_temp(df[f'dew_point_{i}'], df[f'humidity_{i}'])\n",
            "<ipython-input-3-6dd1c2897cd9>:55: PerformanceWarning: DataFrame is highly fragmented.  This is usually the result of calling `frame.insert` many times, which has poor performance.  Consider joining all columns at once using pd.concat(axis=1) instead. To get a de-fragmented frame, use `newframe = frame.copy()`\n",
            "  df[f'mag_temp_{i}'] = dew_to_temp(df[f'dew_point_{i}'], df[f'humidity_{i}'])\n",
            "<ipython-input-3-6dd1c2897cd9>:55: PerformanceWarning: DataFrame is highly fragmented.  This is usually the result of calling `frame.insert` many times, which has poor performance.  Consider joining all columns at once using pd.concat(axis=1) instead. To get a de-fragmented frame, use `newframe = frame.copy()`\n",
            "  df[f'mag_temp_{i}'] = dew_to_temp(df[f'dew_point_{i}'], df[f'humidity_{i}'])\n",
            "<ipython-input-3-6dd1c2897cd9>:55: PerformanceWarning: DataFrame is highly fragmented.  This is usually the result of calling `frame.insert` many times, which has poor performance.  Consider joining all columns at once using pd.concat(axis=1) instead. To get a de-fragmented frame, use `newframe = frame.copy()`\n",
            "  df[f'mag_temp_{i}'] = dew_to_temp(df[f'dew_point_{i}'], df[f'humidity_{i}'])\n",
            "<ipython-input-3-6dd1c2897cd9>:55: PerformanceWarning: DataFrame is highly fragmented.  This is usually the result of calling `frame.insert` many times, which has poor performance.  Consider joining all columns at once using pd.concat(axis=1) instead. To get a de-fragmented frame, use `newframe = frame.copy()`\n",
            "  df[f'mag_temp_{i}'] = dew_to_temp(df[f'dew_point_{i}'], df[f'humidity_{i}'])\n",
            "<ipython-input-3-6dd1c2897cd9>:55: PerformanceWarning: DataFrame is highly fragmented.  This is usually the result of calling `frame.insert` many times, which has poor performance.  Consider joining all columns at once using pd.concat(axis=1) instead. To get a de-fragmented frame, use `newframe = frame.copy()`\n",
            "  df[f'mag_temp_{i}'] = dew_to_temp(df[f'dew_point_{i}'], df[f'humidity_{i}'])\n",
            "<ipython-input-3-6dd1c2897cd9>:55: PerformanceWarning: DataFrame is highly fragmented.  This is usually the result of calling `frame.insert` many times, which has poor performance.  Consider joining all columns at once using pd.concat(axis=1) instead. To get a de-fragmented frame, use `newframe = frame.copy()`\n",
            "  df[f'mag_temp_{i}'] = dew_to_temp(df[f'dew_point_{i}'], df[f'humidity_{i}'])\n",
            "<ipython-input-3-6dd1c2897cd9>:55: PerformanceWarning: DataFrame is highly fragmented.  This is usually the result of calling `frame.insert` many times, which has poor performance.  Consider joining all columns at once using pd.concat(axis=1) instead. To get a de-fragmented frame, use `newframe = frame.copy()`\n",
            "  df[f'mag_temp_{i}'] = dew_to_temp(df[f'dew_point_{i}'], df[f'humidity_{i}'])\n",
            "<ipython-input-3-6dd1c2897cd9>:55: PerformanceWarning: DataFrame is highly fragmented.  This is usually the result of calling `frame.insert` many times, which has poor performance.  Consider joining all columns at once using pd.concat(axis=1) instead. To get a de-fragmented frame, use `newframe = frame.copy()`\n",
            "  df[f'mag_temp_{i}'] = dew_to_temp(df[f'dew_point_{i}'], df[f'humidity_{i}'])\n",
            "<ipython-input-3-6dd1c2897cd9>:55: PerformanceWarning: DataFrame is highly fragmented.  This is usually the result of calling `frame.insert` many times, which has poor performance.  Consider joining all columns at once using pd.concat(axis=1) instead. To get a de-fragmented frame, use `newframe = frame.copy()`\n",
            "  df[f'mag_temp_{i}'] = dew_to_temp(df[f'dew_point_{i}'], df[f'humidity_{i}'])\n",
            "<ipython-input-3-6dd1c2897cd9>:55: PerformanceWarning: DataFrame is highly fragmented.  This is usually the result of calling `frame.insert` many times, which has poor performance.  Consider joining all columns at once using pd.concat(axis=1) instead. To get a de-fragmented frame, use `newframe = frame.copy()`\n",
            "  df[f'mag_temp_{i}'] = dew_to_temp(df[f'dew_point_{i}'], df[f'humidity_{i}'])\n",
            "<ipython-input-3-6dd1c2897cd9>:55: PerformanceWarning: DataFrame is highly fragmented.  This is usually the result of calling `frame.insert` many times, which has poor performance.  Consider joining all columns at once using pd.concat(axis=1) instead. To get a de-fragmented frame, use `newframe = frame.copy()`\n",
            "  df[f'mag_temp_{i}'] = dew_to_temp(df[f'dew_point_{i}'], df[f'humidity_{i}'])\n",
            "<ipython-input-3-6dd1c2897cd9>:55: PerformanceWarning: DataFrame is highly fragmented.  This is usually the result of calling `frame.insert` many times, which has poor performance.  Consider joining all columns at once using pd.concat(axis=1) instead. To get a de-fragmented frame, use `newframe = frame.copy()`\n",
            "  df[f'mag_temp_{i}'] = dew_to_temp(df[f'dew_point_{i}'], df[f'humidity_{i}'])\n",
            "<ipython-input-3-6dd1c2897cd9>:55: PerformanceWarning: DataFrame is highly fragmented.  This is usually the result of calling `frame.insert` many times, which has poor performance.  Consider joining all columns at once using pd.concat(axis=1) instead. To get a de-fragmented frame, use `newframe = frame.copy()`\n",
            "  df[f'mag_temp_{i}'] = dew_to_temp(df[f'dew_point_{i}'], df[f'humidity_{i}'])\n",
            "<ipython-input-3-6dd1c2897cd9>:55: PerformanceWarning: DataFrame is highly fragmented.  This is usually the result of calling `frame.insert` many times, which has poor performance.  Consider joining all columns at once using pd.concat(axis=1) instead. To get a de-fragmented frame, use `newframe = frame.copy()`\n",
            "  df[f'mag_temp_{i}'] = dew_to_temp(df[f'dew_point_{i}'], df[f'humidity_{i}'])\n"
          ]
        }
      ],
      "source": [
        "test_path = \"/content/drive/MyDrive/ML_data/test_dataset.csv\"\n",
        "test_df = pd.read_csv(test_path)\n",
        "test = preprocess_data(test_df, station_df)"
      ]
    },
    {
      "cell_type": "code",
      "execution_count": 15,
      "id": "0a17ddf5-0055-4529-82ec-dd1d273e4cb0",
      "metadata": {
        "id": "0a17ddf5-0055-4529-82ec-dd1d273e4cb0"
      },
      "outputs": [],
      "source": [
        "final_preds = []\n",
        "for m in models :\n",
        "    pred = m.predict(test)\n",
        "    final_preds.append(pred)\n",
        "final = np.mean(final_preds, axis=0)"
      ]
    },
    {
      "cell_type": "code",
      "execution_count": 16,
      "id": "f1a0e9a4-06b3-4c2d-a995-262639629b60",
      "metadata": {
        "id": "f1a0e9a4-06b3-4c2d-a995-262639629b60"
      },
      "outputs": [],
      "source": [
        "submission_df = pd.DataFrame({'target':final})\n",
        "submission_df.to_csv('soft_final.csv',index=True, index_label='id')"
      ]
    },
    {
      "cell_type": "code",
      "execution_count": null,
      "id": "e63310cc-d136-4038-a511-779ab72bc11d",
      "metadata": {
        "id": "e63310cc-d136-4038-a511-779ab72bc11d"
      },
      "outputs": [],
      "source": []
    }
  ],
  "metadata": {
    "kernelspec": {
      "display_name": "Python [conda env:base] *",
      "language": "python",
      "name": "conda-base-py"
    },
    "language_info": {
      "codemirror_mode": {
        "name": "ipython",
        "version": 3
      },
      "file_extension": ".py",
      "mimetype": "text/x-python",
      "name": "python",
      "nbconvert_exporter": "python",
      "pygments_lexer": "ipython3",
      "version": "3.12.7"
    },
    "colab": {
      "provenance": [],
      "gpuType": "T4"
    },
    "accelerator": "GPU"
  },
  "nbformat": 4,
  "nbformat_minor": 5
}