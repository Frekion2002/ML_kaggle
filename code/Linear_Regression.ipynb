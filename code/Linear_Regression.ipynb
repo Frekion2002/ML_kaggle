{
 "cells": [
  {
   "cell_type": "code",
   "execution_count": 42,
   "id": "3617fb87-9a56-4068-9a43-84159f0f6a2f",
   "metadata": {},
   "outputs": [],
   "source": [
    "import pandas as pd\n",
    "from sklearn.linear_model import LinearRegression\n",
    "from sklearn.model_selection import train_test_split\n",
    "from sklearn.preprocessing import StandardScaler, OneHotEncoder\n",
    "from sklearn.compose import ColumnTransformer\n",
    "from sklearn.pipeline import Pipeline\n",
    "import numpy as np"
   ]
  },
  {
   "cell_type": "code",
   "execution_count": 46,
   "id": "8be540d3-1dad-4424-ac53-b83cf9f16a76",
   "metadata": {},
   "outputs": [],
   "source": [
    "# 데이터 로드\n",
    "train_df = pd.read_csv(\"D:\\\\ML_kaggle\\\\data\\\\train_dataset.csv\")\n",
    "test_df = pd.read_csv(\"D:\\\\ML_kaggle\\\\data\\\\test_dataset.csv\")\n",
    "info_df = pd.read_csv(\"D:\\\\ML_kaggle\\\\data\\\\station_info.csv\")"
   ]
  },
  {
   "cell_type": "code",
   "execution_count": 47,
   "id": "ee741b3f-d07d-4efe-8ed2-0b0f3c63d5d7",
   "metadata": {},
   "outputs": [],
   "source": [
    "# 결측치 -9999 처리 (예시: NaN으로 변경 후 평균으로 채우기)\n",
    "train_df = train_df.replace(-9999, np.nan)\n",
    "test_df = test_df.replace(-9999, np.nan)\n",
    "\n",
    "# 불필요한 컬럼 제거 (학습 데이터)\n",
    "train_df = train_df.drop(columns=['station', 'station_name', 'date'], axis=1)\n",
    "test_df = test_df.drop(columns=['station', 'station_name', 'date'], axis=1)"
   ]
  },
  {
   "cell_type": "code",
   "execution_count": 60,
   "id": "fafc2d8f-fa3a-47cd-9aca-2cf54e23f866",
   "metadata": {},
   "outputs": [],
   "source": [
    "# 결측치 -9999 처리\n",
    "train_df = train_df.replace(-9999, np.nan)\n",
    "test_df = test_df.replace(-9999, np.nan)"
   ]
  },
  {
   "cell_type": "code",
   "execution_count": 61,
   "id": "575600cb-d042-4fde-bac9-78e444747974",
   "metadata": {},
   "outputs": [],
   "source": [
    "# 시간별 변수 평균값으로 Feature 생성\n",
    "# time_cols_train = [col for col in train_df.columns if '_' in col]\n",
    "# train_df['avg_time_vars'] = train_df[time_cols_train].mean(axis=1)\n",
    "\n",
    "# time_cols_test = [col for col in test_df.columns if '_n' in col]\n",
    "# test_df['avg_time_vars'] = test_df[time_cols_test].mean(axis=1)\n",
    "\n",
    "# NaN 값 채우기 (평균값으로 채우기)\n",
    "# train_df = train_df.fillna(train_df.mean())\n",
    "# test_df = test_df.fillna(test_df.mean())\n",
    "\n",
    "# NaN 값 채우기 (최빈값으로 채우기)\n",
    "for col in train_df.columns:\n",
    "    mode_value = train_df[col].mode()\n",
    "    if not mode_value.empty:\n",
    "        train_df[col] = train_df[col].fillna(mode_value[0])\n",
    "        continue\n",
    "    train_df = train_df.drop(columns=[col], axis=1)\n",
    "\n",
    "for col in test_df.columns:\n",
    "    mode_value = test_df[col].mode()\n",
    "    if not mode_value.empty:\n",
    "        test_df[col] = test_df[col].fillna(mode_value[0])\n",
    "        continue\n",
    "    test_df = test_df.drop(columns=[col], axis=1)"
   ]
  },
  {
   "cell_type": "code",
   "execution_count": 62,
   "id": "876b495b-4b50-42c4-b820-ef8dcece5496",
   "metadata": {},
   "outputs": [
    {
     "name": "stdout",
     "output_type": "stream",
     "text": [
      "train_df의 총 NaN 값 개수: 0\n",
      "test_df의 총 NaN 값 개수: 0\n"
     ]
    }
   ],
   "source": [
    "# train_df의 컬럼별 NaN 값 개수 확인\n",
    "# train_df의 총 NaN 값 개수 확인\n",
    "total_nan_count = train_df.isnull().sum().sum()\n",
    "print(f\"train_df의 총 NaN 값 개수: {total_nan_count}\")\n",
    "total_nan_count = test_df.isnull().sum().sum()\n",
    "print(f\"test_df의 총 NaN 값 개수: {total_nan_count}\")"
   ]
  },
  {
   "cell_type": "code",
   "execution_count": 65,
   "id": "8ecbfd78-85f4-4b13-984e-15f004ee47dc",
   "metadata": {},
   "outputs": [
    {
     "name": "stdout",
     "output_type": "stream",
     "text": [
      "Train에만 있는 Feature: set()\n",
      "X_train Feature 개수: 328\n",
      "X_test Feature 개수: 328\n"
     ]
    }
   ],
   "source": [
    "# Feature 선택\n",
    "features_train = [col for col in train_df.columns if col not in ['id', 'target','sunshine_duration_21']]\n",
    "features_test = [col for col in test_df.columns if col not in ['id']]\n",
    "\n",
    "train_only_features = set(features_train) - set(features_test)\n",
    "print(\"Train에만 있는 Feature:\", train_only_features)\n",
    "\n",
    "# Feature 스케일링 (선택 사항)\n",
    "scaler = StandardScaler()\n",
    "X_train = scaler.fit_transform(train_df[features_train])\n",
    "y_train = train_df['target']\n",
    "X_test = scaler.fit_transform(test_df[features_test])\n",
    "\n",
    "print(\"X_train Feature 개수:\", X_train.shape[1])\n",
    "print(\"X_test Feature 개수:\", X_test.shape[1])"
   ]
  },
  {
   "cell_type": "code",
   "execution_count": 66,
   "id": "1af9b6ab-46a4-45c8-9917-f1dcf8cee697",
   "metadata": {},
   "outputs": [],
   "source": [
    "model = LinearRegression()\n",
    "model.fit(X_train, y_train)\n",
    "predictions = model.predict(X_test)"
   ]
  },
  {
   "cell_type": "code",
   "execution_count": 68,
   "id": "4269b86e-6133-4ae0-9422-cefcd46d2bef",
   "metadata": {},
   "outputs": [
    {
     "data": {
      "text/html": [
       "<div>\n",
       "<style scoped>\n",
       "    .dataframe tbody tr th:only-of-type {\n",
       "        vertical-align: middle;\n",
       "    }\n",
       "\n",
       "    .dataframe tbody tr th {\n",
       "        vertical-align: top;\n",
       "    }\n",
       "\n",
       "    .dataframe thead th {\n",
       "        text-align: right;\n",
       "    }\n",
       "</style>\n",
       "<table border=\"1\" class=\"dataframe\">\n",
       "  <thead>\n",
       "    <tr style=\"text-align: right;\">\n",
       "      <th></th>\n",
       "      <th>id</th>\n",
       "      <th>target</th>\n",
       "    </tr>\n",
       "  </thead>\n",
       "  <tbody>\n",
       "    <tr>\n",
       "      <th>0</th>\n",
       "      <td>0</td>\n",
       "      <td>-1.093202</td>\n",
       "    </tr>\n",
       "    <tr>\n",
       "      <th>1</th>\n",
       "      <td>1</td>\n",
       "      <td>2.146262</td>\n",
       "    </tr>\n",
       "    <tr>\n",
       "      <th>2</th>\n",
       "      <td>2</td>\n",
       "      <td>0.443306</td>\n",
       "    </tr>\n",
       "    <tr>\n",
       "      <th>3</th>\n",
       "      <td>3</td>\n",
       "      <td>2.553764</td>\n",
       "    </tr>\n",
       "    <tr>\n",
       "      <th>4</th>\n",
       "      <td>4</td>\n",
       "      <td>3.197479</td>\n",
       "    </tr>\n",
       "    <tr>\n",
       "      <th>...</th>\n",
       "      <td>...</td>\n",
       "      <td>...</td>\n",
       "    </tr>\n",
       "    <tr>\n",
       "      <th>4374</th>\n",
       "      <td>4374</td>\n",
       "      <td>-0.571236</td>\n",
       "    </tr>\n",
       "    <tr>\n",
       "      <th>4375</th>\n",
       "      <td>4375</td>\n",
       "      <td>-0.215027</td>\n",
       "    </tr>\n",
       "    <tr>\n",
       "      <th>4376</th>\n",
       "      <td>4376</td>\n",
       "      <td>1.373031</td>\n",
       "    </tr>\n",
       "    <tr>\n",
       "      <th>4377</th>\n",
       "      <td>4377</td>\n",
       "      <td>2.824722</td>\n",
       "    </tr>\n",
       "    <tr>\n",
       "      <th>4378</th>\n",
       "      <td>4378</td>\n",
       "      <td>3.144267</td>\n",
       "    </tr>\n",
       "  </tbody>\n",
       "</table>\n",
       "<p>4379 rows × 2 columns</p>\n",
       "</div>"
      ],
      "text/plain": [
       "        id    target\n",
       "0        0 -1.093202\n",
       "1        1  2.146262\n",
       "2        2  0.443306\n",
       "3        3  2.553764\n",
       "4        4  3.197479\n",
       "...    ...       ...\n",
       "4374  4374 -0.571236\n",
       "4375  4375 -0.215027\n",
       "4376  4376  1.373031\n",
       "4377  4377  2.824722\n",
       "4378  4378  3.144267\n",
       "\n",
       "[4379 rows x 2 columns]"
      ]
     },
     "execution_count": 68,
     "metadata": {},
     "output_type": "execute_result"
    }
   ],
   "source": [
    "submission_df = pd.DataFrame({'id': test_df['id'], 'target': predictions})\n",
    "submission_df\n"
   ]
  },
  {
   "cell_type": "code",
   "execution_count": 69,
   "id": "545b9347-445d-40f4-9a48-866d223a3837",
   "metadata": {},
   "outputs": [],
   "source": [
    "submission_df.to_csv('submission.csv', index=False)"
   ]
  },
  {
   "cell_type": "code",
   "execution_count": null,
   "id": "48458373-2804-4114-b757-6de6c1d991ae",
   "metadata": {},
   "outputs": [],
   "source": []
  }
 ],
 "metadata": {
  "kernelspec": {
   "display_name": "Python 3 (ipykernel)",
   "language": "python",
   "name": "python3"
  },
  "language_info": {
   "codemirror_mode": {
    "name": "ipython",
    "version": 3
   },
   "file_extension": ".py",
   "mimetype": "text/x-python",
   "name": "python",
   "nbconvert_exporter": "python",
   "pygments_lexer": "ipython3",
   "version": "3.9.21"
  }
 },
 "nbformat": 4,
 "nbformat_minor": 5
}
